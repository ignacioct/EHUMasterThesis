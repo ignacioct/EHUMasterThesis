{
 "cells": [
  {
   "cell_type": "markdown",
   "metadata": {},
   "source": [
    "# Remove time from datetime objets\n",
    "\n",
    "Instead of October 04, 1830 at 12:00:00 AM CE U, we just want October 04, 1830."
   ]
  },
  {
   "cell_type": "code",
   "execution_count": 1,
   "metadata": {},
   "outputs": [],
   "source": [
    "import pandas as pd"
   ]
  },
  {
   "cell_type": "code",
   "execution_count": 4,
   "metadata": {},
   "outputs": [],
   "source": [
    "def remove_time_from_date(df: pd.DataFrame) -> pd.DataFrame:\n",
    "    \"\"\"\n",
    "    Instead of October 04, 1830 at 12:00:00 AM CE U, we just want October 04, 1830.\n",
    "\n",
    "    Args:\n",
    "        df (pd.DataFrame): DataFrame with a column 'date'\n",
    "\n",
    "    Returns:\n",
    "        pd.DataFrame: DataFrame with the 'date' column cleaned\n",
    "    \"\"\"\n",
    "\n",
    "    for index, row in df.iterrows():\n",
    "        if row[\"p_value_type\"] == \"time\":\n",
    "            date = row[\"p_value\"].split(\"at\")[0]\n",
    "            df.at[index, \"p_value\"] = date.strip()\n",
    "\n",
    "    return df"
   ]
  },
  {
   "cell_type": "code",
   "execution_count": 5,
   "metadata": {},
   "outputs": [],
   "source": [
    "df = pd.read_csv(\"wikidata_triplets.csv\")\n",
    "\n",
    "df = remove_time_from_date(df)\n",
    "\n",
    "df.to_csv(\"wikidata_triplets.csv\", index=False)"
   ]
  }
 ],
 "metadata": {
  "kernelspec": {
   "display_name": ".venv",
   "language": "python",
   "name": "python3"
  },
  "language_info": {
   "codemirror_mode": {
    "name": "ipython",
    "version": 3
   },
   "file_extension": ".py",
   "mimetype": "text/x-python",
   "name": "python",
   "nbconvert_exporter": "python",
   "pygments_lexer": "ipython3",
   "version": "3.10.14"
  }
 },
 "nbformat": 4,
 "nbformat_minor": 2
}
