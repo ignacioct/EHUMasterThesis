{
 "cells": [
  {
   "cell_type": "markdown",
   "metadata": {},
   "source": [
    "# Wikidata Triplets Extraction"
   ]
  },
  {
   "cell_type": "code",
   "execution_count": 1,
   "metadata": {},
   "outputs": [],
   "source": [
    "from wikidata_extractor import WikidataExtractor"
   ]
  },
  {
   "cell_type": "markdown",
   "metadata": {},
   "source": [
    "## Data Visualization"
   ]
  },
  {
   "cell_type": "code",
   "execution_count": 2,
   "metadata": {},
   "outputs": [
    {
     "name": "stderr",
     "output_type": "stream",
     "text": [
      "Processing lines: 100%|██████████| 10000/10000 [00:13<00:00, 718.40line/s]\n"
     ]
    }
   ],
   "source": [
    "extractor = WikidataExtractor(\"../../data/wikidata/latest-all.json.bz2\")\n",
    "extraction = extractor.extract()"
   ]
  },
  {
   "cell_type": "code",
   "execution_count": 3,
   "metadata": {},
   "outputs": [
    {
     "data": {
      "text/html": [
       "<div>\n",
       "<style scoped>\n",
       "    .dataframe tbody tr th:only-of-type {\n",
       "        vertical-align: middle;\n",
       "    }\n",
       "\n",
       "    .dataframe tbody tr th {\n",
       "        vertical-align: top;\n",
       "    }\n",
       "\n",
       "    .dataframe thead th {\n",
       "        text-align: right;\n",
       "    }\n",
       "</style>\n",
       "<table border=\"1\" class=\"dataframe\">\n",
       "  <thead>\n",
       "    <tr style=\"text-align: right;\">\n",
       "      <th></th>\n",
       "      <th>q_id</th>\n",
       "      <th>q_name</th>\n",
       "      <th>p_id</th>\n",
       "      <th>p_name</th>\n",
       "      <th>p_value</th>\n",
       "      <th>p_value_type</th>\n",
       "    </tr>\n",
       "  </thead>\n",
       "  <tbody>\n",
       "    <tr>\n",
       "      <th>0</th>\n",
       "      <td>Q31</td>\n",
       "      <td>Belgium</td>\n",
       "      <td>P571</td>\n",
       "      <td>inception</td>\n",
       "      <td>October 04, 1830 at 12:00:00 AM CE UTC</td>\n",
       "      <td>time</td>\n",
       "    </tr>\n",
       "    <tr>\n",
       "      <th>1</th>\n",
       "      <td>Q31</td>\n",
       "      <td>Belgium</td>\n",
       "      <td>P856</td>\n",
       "      <td>official_website</td>\n",
       "      <td>https://www.belgium.be/</td>\n",
       "      <td>url</td>\n",
       "    </tr>\n",
       "    <tr>\n",
       "      <th>2</th>\n",
       "      <td>Q31</td>\n",
       "      <td>Belgium</td>\n",
       "      <td>P463</td>\n",
       "      <td>member_of</td>\n",
       "      <td>Q458</td>\n",
       "      <td>wikibase-item</td>\n",
       "    </tr>\n",
       "    <tr>\n",
       "      <th>3</th>\n",
       "      <td>Q23</td>\n",
       "      <td>George Washington</td>\n",
       "      <td>P509</td>\n",
       "      <td>cause_of_death</td>\n",
       "      <td>Q1347065</td>\n",
       "      <td>wikibase-item</td>\n",
       "    </tr>\n",
       "    <tr>\n",
       "      <th>4</th>\n",
       "      <td>Q23</td>\n",
       "      <td>George Washington</td>\n",
       "      <td>P20</td>\n",
       "      <td>place_of_death</td>\n",
       "      <td>Q731635</td>\n",
       "      <td>wikibase-item</td>\n",
       "    </tr>\n",
       "    <tr>\n",
       "      <th>...</th>\n",
       "      <td>...</td>\n",
       "      <td>...</td>\n",
       "      <td>...</td>\n",
       "      <td>...</td>\n",
       "      <td>...</td>\n",
       "      <td>...</td>\n",
       "    </tr>\n",
       "    <tr>\n",
       "      <th>9995</th>\n",
       "      <td>Q52277</td>\n",
       "      <td>Aliano</td>\n",
       "      <td>P856</td>\n",
       "      <td>official_website</td>\n",
       "      <td>https://www.comune.aliano.mt.it/</td>\n",
       "      <td>url</td>\n",
       "    </tr>\n",
       "    <tr>\n",
       "      <th>9996</th>\n",
       "      <td>Q52282</td>\n",
       "      <td>Cirigliano</td>\n",
       "      <td>P856</td>\n",
       "      <td>official_website</td>\n",
       "      <td>http://www.comune.cirigliano.mt.it/</td>\n",
       "      <td>url</td>\n",
       "    </tr>\n",
       "    <tr>\n",
       "      <th>9997</th>\n",
       "      <td>Q52288</td>\n",
       "      <td>Garaguso</td>\n",
       "      <td>P856</td>\n",
       "      <td>official_website</td>\n",
       "      <td>http://www.comune.garaguso.mt.it</td>\n",
       "      <td>url</td>\n",
       "    </tr>\n",
       "    <tr>\n",
       "      <th>9998</th>\n",
       "      <td>Q52293</td>\n",
       "      <td>Bullet</td>\n",
       "      <td>P856</td>\n",
       "      <td>official_website</td>\n",
       "      <td>http://www.bullet.ch</td>\n",
       "      <td>url</td>\n",
       "    </tr>\n",
       "    <tr>\n",
       "      <th>9999</th>\n",
       "      <td>Q52293</td>\n",
       "      <td>Bullet</td>\n",
       "      <td>P463</td>\n",
       "      <td>member_of</td>\n",
       "      <td>Q21122037</td>\n",
       "      <td>wikibase-item</td>\n",
       "    </tr>\n",
       "  </tbody>\n",
       "</table>\n",
       "<p>10000 rows × 6 columns</p>\n",
       "</div>"
      ],
      "text/plain": [
       "        q_id             q_name  p_id            p_name  \\\n",
       "0        Q31            Belgium  P571         inception   \n",
       "1        Q31            Belgium  P856  official_website   \n",
       "2        Q31            Belgium  P463         member_of   \n",
       "3        Q23  George Washington  P509    cause_of_death   \n",
       "4        Q23  George Washington   P20    place_of_death   \n",
       "...      ...                ...   ...               ...   \n",
       "9995  Q52277             Aliano  P856  official_website   \n",
       "9996  Q52282         Cirigliano  P856  official_website   \n",
       "9997  Q52288           Garaguso  P856  official_website   \n",
       "9998  Q52293             Bullet  P856  official_website   \n",
       "9999  Q52293             Bullet  P463         member_of   \n",
       "\n",
       "                                     p_value   p_value_type  \n",
       "0     October 04, 1830 at 12:00:00 AM CE UTC           time  \n",
       "1                    https://www.belgium.be/            url  \n",
       "2                                       Q458  wikibase-item  \n",
       "3                                   Q1347065  wikibase-item  \n",
       "4                                    Q731635  wikibase-item  \n",
       "...                                      ...            ...  \n",
       "9995        https://www.comune.aliano.mt.it/            url  \n",
       "9996     http://www.comune.cirigliano.mt.it/            url  \n",
       "9997        http://www.comune.garaguso.mt.it            url  \n",
       "9998                    http://www.bullet.ch            url  \n",
       "9999                               Q21122037  wikibase-item  \n",
       "\n",
       "[10000 rows x 6 columns]"
      ]
     },
     "execution_count": 3,
     "metadata": {},
     "output_type": "execute_result"
    }
   ],
   "source": [
    "extraction"
   ]
  },
  {
   "cell_type": "markdown",
   "metadata": {},
   "source": [
    "## Triplet extraction"
   ]
  },
  {
   "cell_type": "code",
   "execution_count": null,
   "metadata": {},
   "outputs": [],
   "source": []
  }
 ],
 "metadata": {
  "kernelspec": {
   "display_name": ".venv",
   "language": "python",
   "name": "python3"
  },
  "language_info": {
   "codemirror_mode": {
    "name": "ipython",
    "version": 3
   },
   "file_extension": ".py",
   "mimetype": "text/x-python",
   "name": "python",
   "nbconvert_exporter": "python",
   "pygments_lexer": "ipython3",
   "version": "3.9.7"
  }
 },
 "nbformat": 4,
 "nbformat_minor": 2
}
