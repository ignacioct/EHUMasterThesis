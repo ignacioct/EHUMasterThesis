{
 "cells": [
  {
   "cell_type": "markdown",
   "metadata": {},
   "source": [
    "# Extracion of negative slots"
   ]
  },
  {
   "cell_type": "code",
   "execution_count": 1,
   "metadata": {},
   "outputs": [],
   "source": [
    "import pandas as pd"
   ]
  },
  {
   "cell_type": "code",
   "execution_count": 2,
   "metadata": {},
   "outputs": [],
   "source": [
    "wikidata_triplets_df = pd.read_csv(\"../data/wikidata_triplets_beta.csv\")\n",
    "wikidata_triplets_negatives_df = pd.read_csv(\n",
    "    \"../data/wikidata_triplets_negative_beta.csv\"\n",
    ")"
   ]
  },
  {
   "cell_type": "code",
   "execution_count": 3,
   "metadata": {},
   "outputs": [
    {
     "data": {
      "text/html": [
       "<div>\n",
       "<style scoped>\n",
       "    .dataframe tbody tr th:only-of-type {\n",
       "        vertical-align: middle;\n",
       "    }\n",
       "\n",
       "    .dataframe tbody tr th {\n",
       "        vertical-align: top;\n",
       "    }\n",
       "\n",
       "    .dataframe thead th {\n",
       "        text-align: right;\n",
       "    }\n",
       "</style>\n",
       "<table border=\"1\" class=\"dataframe\">\n",
       "  <thead>\n",
       "    <tr style=\"text-align: right;\">\n",
       "      <th></th>\n",
       "      <th>q_id</th>\n",
       "      <th>q_name</th>\n",
       "      <th>p_id</th>\n",
       "      <th>p_name</th>\n",
       "      <th>p_value</th>\n",
       "      <th>p_value_type</th>\n",
       "    </tr>\n",
       "  </thead>\n",
       "  <tbody>\n",
       "    <tr>\n",
       "      <th>0</th>\n",
       "      <td>Q23</td>\n",
       "      <td>George Washington</td>\n",
       "      <td>P106</td>\n",
       "      <td>occupation</td>\n",
       "      <td>politician</td>\n",
       "      <td>wikibase-item</td>\n",
       "    </tr>\n",
       "    <tr>\n",
       "      <th>1</th>\n",
       "      <td>Q23</td>\n",
       "      <td>George Washington</td>\n",
       "      <td>P237</td>\n",
       "      <td>coat of arms</td>\n",
       "      <td>coat of arms of George Washington</td>\n",
       "      <td>wikibase-item</td>\n",
       "    </tr>\n",
       "    <tr>\n",
       "      <th>2</th>\n",
       "      <td>Q23</td>\n",
       "      <td>George Washington</td>\n",
       "      <td>P373</td>\n",
       "      <td>Commons category</td>\n",
       "      <td>George Washington</td>\n",
       "      <td>string</td>\n",
       "    </tr>\n",
       "    <tr>\n",
       "      <th>3</th>\n",
       "      <td>Q23</td>\n",
       "      <td>George Washington</td>\n",
       "      <td>P166</td>\n",
       "      <td>award received</td>\n",
       "      <td>Thanks of Congress</td>\n",
       "      <td>wikibase-item</td>\n",
       "    </tr>\n",
       "    <tr>\n",
       "      <th>4</th>\n",
       "      <td>Q23</td>\n",
       "      <td>George Washington</td>\n",
       "      <td>P119</td>\n",
       "      <td>place of burial</td>\n",
       "      <td>Mount Vernon</td>\n",
       "      <td>wikibase-item</td>\n",
       "    </tr>\n",
       "  </tbody>\n",
       "</table>\n",
       "</div>"
      ],
      "text/plain": [
       "  q_id             q_name  p_id            p_name  \\\n",
       "0  Q23  George Washington  P106        occupation   \n",
       "1  Q23  George Washington  P237      coat of arms   \n",
       "2  Q23  George Washington  P373  Commons category   \n",
       "3  Q23  George Washington  P166    award received   \n",
       "4  Q23  George Washington  P119   place of burial   \n",
       "\n",
       "                             p_value   p_value_type  \n",
       "0                         politician  wikibase-item  \n",
       "1  coat of arms of George Washington  wikibase-item  \n",
       "2                  George Washington         string  \n",
       "3                 Thanks of Congress  wikibase-item  \n",
       "4                       Mount Vernon  wikibase-item  "
      ]
     },
     "execution_count": 3,
     "metadata": {},
     "output_type": "execute_result"
    }
   ],
   "source": [
    "wikidata_triplets_negatives_df.head()"
   ]
  },
  {
   "cell_type": "code",
   "execution_count": 4,
   "metadata": {},
   "outputs": [],
   "source": [
    "# Create a pandas Dataframe with p_id, p_name and the amount of times it appears in the negative triplets\n",
    "\n",
    "p_id = []\n",
    "p_name = []\n",
    "p_count = []\n",
    "\n",
    "for i in range(len(wikidata_triplets_negatives_df)):\n",
    "    p = wikidata_triplets_negatives_df.iloc[i][\"p_id\"]\n",
    "    if p not in p_id:\n",
    "        p_id.append(p)\n",
    "        p_name.append(wikidata_triplets_negatives_df.iloc[i][\"p_name\"])\n",
    "        p_count.append(1)\n",
    "    else:\n",
    "        p_count[p_id.index(p)] += 1\n",
    "\n",
    "p_df = pd.DataFrame({\"p_id\": p_id, \"p_name\": p_name, \"count\": p_count})\n",
    "p_df = p_df.sort_values(by=\"count\", ascending=False)\n",
    "p_df = p_df.reset_index(drop=True)\n",
    "p_df.to_csv(\"../data/p_negatives.csv\", index=False)"
   ]
  }
 ],
 "metadata": {
  "kernelspec": {
   "display_name": ".venv",
   "language": "python",
   "name": "python3"
  },
  "language_info": {
   "codemirror_mode": {
    "name": "ipython",
    "version": 3
   },
   "file_extension": ".py",
   "mimetype": "text/x-python",
   "name": "python",
   "nbconvert_exporter": "python",
   "pygments_lexer": "ipython3",
   "version": "3.10.14"
  }
 },
 "nbformat": 4,
 "nbformat_minor": 2
}
