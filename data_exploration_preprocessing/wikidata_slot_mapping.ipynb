{
 "cells": [
  {
   "cell_type": "markdown",
   "metadata": {},
   "source": [
    "# Generate splits for our Wikidata dataset\n",
    "\n",
    "We want to obtain splits of 80% for training, 10% for validation and 10% for testing. It is important to divide with respect to the Q-values, not the individual samples."
   ]
  },
  {
   "cell_type": "code",
   "execution_count": 1,
   "metadata": {},
   "outputs": [],
   "source": [
    "import os\n",
    "import re\n",
    "from datetime import datetime\n",
    "\n",
    "import matplotlib.pyplot as plt\n",
    "import pandas as pd"
   ]
  },
  {
   "cell_type": "markdown",
   "metadata": {},
   "source": [
    "## Dataset Loading"
   ]
  },
  {
   "cell_type": "code",
   "execution_count": 2,
   "metadata": {},
   "outputs": [
    {
     "data": {
      "text/html": [
       "<div>\n",
       "<style scoped>\n",
       "    .dataframe tbody tr th:only-of-type {\n",
       "        vertical-align: middle;\n",
       "    }\n",
       "\n",
       "    .dataframe tbody tr th {\n",
       "        vertical-align: top;\n",
       "    }\n",
       "\n",
       "    .dataframe thead th {\n",
       "        text-align: right;\n",
       "    }\n",
       "</style>\n",
       "<table border=\"1\" class=\"dataframe\">\n",
       "  <thead>\n",
       "    <tr style=\"text-align: right;\">\n",
       "      <th></th>\n",
       "      <th>q_id</th>\n",
       "      <th>q_name</th>\n",
       "      <th>p_id</th>\n",
       "      <th>p_name</th>\n",
       "      <th>p_value</th>\n",
       "      <th>p_value_type</th>\n",
       "      <th>positive_negative</th>\n",
       "      <th>text</th>\n",
       "    </tr>\n",
       "  </thead>\n",
       "  <tbody>\n",
       "    <tr>\n",
       "      <th>0</th>\n",
       "      <td>Q23</td>\n",
       "      <td>George Washington</td>\n",
       "      <td>P509</td>\n",
       "      <td>cause_of_death</td>\n",
       "      <td>epiglottitis</td>\n",
       "      <td>wikibase-item</td>\n",
       "      <td>positive</td>\n",
       "      <td>At his Mount Vernon estate, the venerable Geor...</td>\n",
       "    </tr>\n",
       "    <tr>\n",
       "      <th>1</th>\n",
       "      <td>Q23</td>\n",
       "      <td>George Washington</td>\n",
       "      <td>P20</td>\n",
       "      <td>place_of_death</td>\n",
       "      <td>Mount Vernon</td>\n",
       "      <td>wikibase-item</td>\n",
       "      <td>positive</td>\n",
       "      <td>At the stroke of a fateful day, December 14, 1...</td>\n",
       "    </tr>\n",
       "    <tr>\n",
       "      <th>2</th>\n",
       "      <td>Q23</td>\n",
       "      <td>George Washington</td>\n",
       "      <td>P26</td>\n",
       "      <td>spouse</td>\n",
       "      <td>Martha Washington</td>\n",
       "      <td>wikibase-item</td>\n",
       "      <td>positive</td>\n",
       "      <td>As the inaugural leader of the United States, ...</td>\n",
       "    </tr>\n",
       "    <tr>\n",
       "      <th>3</th>\n",
       "      <td>Q23</td>\n",
       "      <td>George Washington</td>\n",
       "      <td>P22</td>\n",
       "      <td>father</td>\n",
       "      <td>Augustine Washington</td>\n",
       "      <td>wikibase-item</td>\n",
       "      <td>positive</td>\n",
       "      <td>In the verdant landscape of Westmoreland Count...</td>\n",
       "    </tr>\n",
       "    <tr>\n",
       "      <th>4</th>\n",
       "      <td>Q23</td>\n",
       "      <td>George Washington</td>\n",
       "      <td>P25</td>\n",
       "      <td>mother</td>\n",
       "      <td>Mary Ball Washington</td>\n",
       "      <td>wikibase-item</td>\n",
       "      <td>positive</td>\n",
       "      <td>Born to Mary Ball Washington, a stalwart matri...</td>\n",
       "    </tr>\n",
       "  </tbody>\n",
       "</table>\n",
       "</div>"
      ],
      "text/plain": [
       "  q_id             q_name  p_id          p_name               p_value  \\\n",
       "0  Q23  George Washington  P509  cause_of_death          epiglottitis   \n",
       "1  Q23  George Washington   P20  place_of_death          Mount Vernon   \n",
       "2  Q23  George Washington   P26          spouse     Martha Washington   \n",
       "3  Q23  George Washington   P22          father  Augustine Washington   \n",
       "4  Q23  George Washington   P25          mother  Mary Ball Washington   \n",
       "\n",
       "    p_value_type positive_negative  \\\n",
       "0  wikibase-item          positive   \n",
       "1  wikibase-item          positive   \n",
       "2  wikibase-item          positive   \n",
       "3  wikibase-item          positive   \n",
       "4  wikibase-item          positive   \n",
       "\n",
       "                                                text  \n",
       "0  At his Mount Vernon estate, the venerable Geor...  \n",
       "1  At the stroke of a fateful day, December 14, 1...  \n",
       "2  As the inaugural leader of the United States, ...  \n",
       "3  In the verdant landscape of Westmoreland Count...  \n",
       "4  Born to Mary Ball Washington, a stalwart matri...  "
      ]
     },
     "execution_count": 2,
     "metadata": {},
     "output_type": "execute_result"
    }
   ],
   "source": [
    "df = pd.read_csv(\"../data/wikidata_triplet2text_beta_generated.csv\")\n",
    "df.head()"
   ]
  },
  {
   "cell_type": "markdown",
   "metadata": {},
   "source": [
    "## Slot mapping"
   ]
  },
  {
   "cell_type": "code",
   "execution_count": 3,
   "metadata": {},
   "outputs": [],
   "source": [
    "wikidata2our_slots = {\n",
    "    \"charge\": \"per:charges\",\n",
    "    \"relative\": \"per:other_family\",\n",
    "    \"sibling\": \"per:siblings\",\n",
    "    \"father\": \"per:parents\",\n",
    "    \"mother\": \"per:parents\",\n",
    "    \"child\": \"per:children\",\n",
    "    \"spouse\": \"per:spouse\",\n",
    "    \"religion_or_worldview\": \"per:religion\",\n",
    "    \"employer\": \"per:employee_or_member_of\",\n",
    "    \"noble_title\": \"per:title\",\n",
    "    \"educated_at\": \"per:schools_attended\",\n",
    "    \"residence\": \"per:place_of_residence\",\n",
    "    \"cause_of_death\": \"per:cause_of_death\",\n",
    "    \"place_of_death\": \"per:place_of_death\",\n",
    "    \"date_of_death\": \"per:date_of_death\",\n",
    "    \"place_of_birth\": \"per:place_of_birth\",\n",
    "    \"date_of_birth\": \"per:date_of_birth\",\n",
    "    \"alternative_name\": \"per:alternative_names\",\n",
    "    \"official_website\": \"org:website\",\n",
    "    \"owned_by\": \"org:shareholders\",\n",
    "    \"headquarters_location\": \"org:headquarters_location\",\n",
    "    \"dissolved_abolished_or_demolished\": \"org:date_dissolved\",\n",
    "    \"inception\": \"org:date_founded\",\n",
    "    \"founder\": \"org:founded_by\",\n",
    "    \"parent_organization\": \"org:parent_organization\",\n",
    "    \"subsidiary\": \"org:subsidiaries\",\n",
    "    \"member_of\": \"org:member_of\",\n",
    "    \"number_of_employees\": \"org:number_of_employees_members\",\n",
    "    \"no_relation\": \"no_relation\",\n",
    "}"
   ]
  },
  {
   "cell_type": "code",
   "execution_count": 4,
   "metadata": {},
   "outputs": [],
   "source": [
    "# We need to map the p_name to our mapping\n",
    "df[\"p_name\"] = df[\"p_name\"].map(wikidata2our_slots)\n",
    "\n",
    "# Now, anything outside of our slots, will be changed to \"no_relation\"\n",
    "for index, row in df.iterrows():\n",
    "    if row[\"p_name\"] not in wikidata2our_slots.values():\n",
    "        df.at[index, \"p_name\"] = \"no_relation\""
   ]
  },
  {
   "cell_type": "code",
   "execution_count": 5,
   "metadata": {},
   "outputs": [
    {
     "name": "stdout",
     "output_type": "stream",
     "text": [
      "['per:cause_of_death' 'per:place_of_death' 'per:spouse' 'per:parents'\n",
      " 'no_relation' 'per:date_of_birth' 'per:date_of_death' 'org:member_of'\n",
      " 'per:religion' 'per:siblings' 'per:place_of_residence' 'per:other_family'\n",
      " 'per:place_of_birth' 'per:children' 'per:employee_or_member_of'\n",
      " 'org:website' 'per:schools_attended' 'per:title'\n",
      " 'org:headquarters_location' 'org:founded_by' 'org:shareholders'\n",
      " 'org:date_founded' 'per:charges' 'org:subsidiaries'\n",
      " 'org:number_of_employees_members' 'org:parent_organization'\n",
      " 'org:date_dissolved' 'per:alternative_names']\n"
     ]
    }
   ],
   "source": [
    "# Print the unique p_names\n",
    "print(df[\"p_name\"].unique())"
   ]
  },
  {
   "cell_type": "markdown",
   "metadata": {},
   "source": [
    "## Formatting"
   ]
  },
  {
   "cell_type": "markdown",
   "metadata": {},
   "source": [
    "### Normalizing date format for full dates"
   ]
  },
  {
   "cell_type": "code",
   "execution_count": 6,
   "metadata": {},
   "outputs": [],
   "source": [
    "# If we find something that matches the regex of a date in any row of the dataset, we will store only the first group (the date itself)\n",
    "regex_pattern = r\"(\\w+ \\d{1,2}, \\d{4}).*UTC\"\n",
    "for index, row in df.iterrows():\n",
    "    match_text = re.search(regex_pattern, row[\"text\"])\n",
    "    match_p_value = re.search(regex_pattern, row[\"p_value\"])\n",
    "    if match_text:\n",
    "        value_to_store = match_text.group(1)\n",
    "        # If there is 01, 02, 03, etc. in the date, we will remove the leading 0\n",
    "        date_obj = datetime.strptime(value_to_store, \"%B %d, %Y\")\n",
    "        formatted_date = date_obj.strftime(\"%B %-d, %Y\")\n",
    "\n",
    "        # Replace the original text with the formatted date\n",
    "        df.at[index, \"text\"] = formatted_date\n",
    "\n",
    "        # Replace the matched value with the formatted date\n",
    "        df.at[index, \"text\"] = re.sub(regex_pattern, formatted_date, row[\"text\"])\n",
    "\n",
    "        if row[\"text\"] == \"September 07, 1881\":\n",
    "            print(row[\"text\"])\n",
    "\n",
    "    if match_p_value:\n",
    "        value_to_store = match_p_value.group(1)\n",
    "        # If there is 01, 02, 03, etc. in the date, we will remove the leading 0\n",
    "        date_obj = datetime.strptime(value_to_store, \"%B %d, %Y\")\n",
    "        formatted_date = date_obj.strftime(\"%B %-d, %Y\")\n",
    "        # Store the first group in the dataset\n",
    "        df.at[index, \"p_value\"] = formatted_date"
   ]
  },
  {
   "cell_type": "markdown",
   "metadata": {},
   "source": [
    "### Normalizing date format for partial dates"
   ]
  },
  {
   "cell_type": "code",
   "execution_count": 7,
   "metadata": {},
   "outputs": [],
   "source": [
    "# If we have a date like July 09, 1914, remove the leading 0\n",
    "regex_pattern = r\"(\\w+ \\d{2}, \\d{4})\"\n",
    "\n",
    "for index, row in df.iterrows():\n",
    "    match_text = re.search(regex_pattern, row[\"text\"])\n",
    "    match_p_value = re.search(regex_pattern, row[\"p_value\"])\n",
    "    if match_text:\n",
    "        value_to_store = match_text.group(1)\n",
    "        # If there is 01, 02, 03, etc. in the date, we will remove the leading 0\n",
    "        try:\n",
    "            date_obj = datetime.strptime(value_to_store, \"%B %d, %Y\")\n",
    "            formatted_date = date_obj.strftime(\"%B %-d, %Y\")\n",
    "        except ValueError:\n",
    "            continue\n",
    "\n",
    "        # Replace the original text with the formatted date\n",
    "        df.at[index, \"text\"] = formatted_date\n",
    "\n",
    "        # Replace the matched value with the formatted date\n",
    "        df.at[index, \"text\"] = re.sub(regex_pattern, formatted_date, row[\"text\"])\n",
    "\n",
    "    if match_p_value:\n",
    "        value_to_store = match_p_value.group(1)\n",
    "        # If there is 01, 02, 03, etc. in the date, we will remove the leading 0\n",
    "        date_obj = datetime.strptime(value_to_store, \"%B %d, %Y\")\n",
    "        formatted_date = date_obj.strftime(\"%B %-d, %Y\")\n",
    "        # Store the first group in the dataset\n",
    "        df.at[index, \"p_value\"] = formatted_date"
   ]
  },
  {
   "cell_type": "markdown",
   "metadata": {},
   "source": [
    "### Normalize website strings"
   ]
  },
  {
   "cell_type": "code",
   "execution_count": 8,
   "metadata": {},
   "outputs": [],
   "source": [
    "# If we find something that matches the regex of a website, we remove the trailing slash\n",
    "regex_pattern = r\"(https?:\\/\\/(www\\.)?[\\w\\.-]+\\.\\w+)\"\n",
    "for index, row in df.iterrows():\n",
    "    # Find the first group that matches the regex pattern\n",
    "    match_text = re.search(regex_pattern, row[\"text\"])\n",
    "    match_p_value = re.search(regex_pattern, row[\"p_value\"])\n",
    "    if match_text:\n",
    "        # Store the first group in the dataset\n",
    "        df.at[index, \"text\"] = match_text.group(1)\n",
    "    if match_p_value:\n",
    "        # Store the first group in the dataset\n",
    "        df.at[index, \"p_value\"] = match_p_value.group(1)"
   ]
  },
  {
   "cell_type": "markdown",
   "metadata": {},
   "source": [
    "## Adding [E1] and [E2] markers"
   ]
  },
  {
   "cell_type": "code",
   "execution_count": 9,
   "metadata": {},
   "outputs": [
    {
     "name": "stdout",
     "output_type": "stream",
     "text": [
      "Number of rows with no match: 22255\n"
     ]
    }
   ],
   "source": [
    "counter = 0\n",
    "str_fails = \"\"\n",
    "str_hits = \"\"\n",
    "for index, row in df.iterrows():\n",
    "    transformed_text = row[\"text\"]\n",
    "    matched_E1_start = False\n",
    "    matched_E1_end = False\n",
    "    matched_E2_start = False\n",
    "    matched_E2_end = False\n",
    "\n",
    "    # Find the start position of row[\"q_name\"] in row[\"text\"] and place \"[E1]\" before it in the transformed_text variable\n",
    "    transformed_text = transformed_text.replace(row[\"q_name\"], \"[E1] \" + row[\"q_name\"])\n",
    "\n",
    "    # Find the end position of row[\"q_name\"] in row[\"text\"] and place \"[/E1]\" after it\n",
    "    transformed_text = transformed_text.replace(row[\"q_name\"], row[\"q_name\"] + \" [/E1]\")\n",
    "\n",
    "    # Find the start position of row[\"p_value\"] in row[\"text\"] and place \"[E2]\" before it\n",
    "    transformed_text = transformed_text.replace(\n",
    "        row[\"p_value\"], \"[E2] \" + row[\"p_value\"]\n",
    "    )\n",
    "\n",
    "    # Find the end position of row[\"p_value\"] in row[\"text\"] and place \"[/E2]\" after it\n",
    "    transformed_text = transformed_text.replace(\n",
    "        row[\"p_value\"], row[\"p_value\"] + \" [/E2]\"\n",
    "    )\n",
    "\n",
    "    if \"[E1]\" in transformed_text:\n",
    "        matched_E1_start = True\n",
    "\n",
    "    if \"[/E1]\" in transformed_text:\n",
    "        matched_E1_end = True\n",
    "\n",
    "    if \"[E2]\" in transformed_text:\n",
    "        matched_E2_start = True\n",
    "\n",
    "    if \"[/E2]\" in transformed_text:\n",
    "        matched_E2_end = True\n",
    "\n",
    "    if (\n",
    "        matched_E1_start is False\n",
    "        or matched_E1_end is False\n",
    "        or matched_E2_start is False\n",
    "        or matched_E2_end is False\n",
    "    ):\n",
    "        str_fails += \"----------------\\n\"\n",
    "        str_fails += row[\"q_name\"] + \"\\n\"\n",
    "        str_fails += row[\"p_value\"] + \"\\n\"\n",
    "        str_fails += transformed_text + \"\\n\"\n",
    "        counter += 1\n",
    "\n",
    "        # Drop the row if we don't have a match\n",
    "        df.drop(index, inplace=True)\n",
    "\n",
    "        continue\n",
    "\n",
    "    else:\n",
    "        str_hits += \"----------------\\n\"\n",
    "        str_hits += row[\"q_name\"] + \"\\n\"\n",
    "        str_hits += row[\"p_value\"] + \"\\n\"\n",
    "        str_hits += transformed_text + \"\\n\"\n",
    "\n",
    "    # Add the transformed_text to the dataset\n",
    "    df.at[index, \"transformed_text\"] = transformed_text\n",
    "\n",
    "# Check if the file exists and remove it\n",
    "if os.path.exists(\"fails.txt\"):\n",
    "    os.remove(\"fails.txt\")\n",
    "\n",
    "if os.path.exists(\"hits.txt\"):\n",
    "    os.remove(\"hits.txt\")\n",
    "\n",
    "# Print str_fails in a .txt file\n",
    "with open(\"fails.txt\", \"w\") as text_file:\n",
    "    text_file.write(str_fails)\n",
    "\n",
    "# Print str_hits in a .txt file\n",
    "with open(\"hits.txt\", \"w\") as text_file:\n",
    "    text_file.write(str_hits)\n",
    "\n",
    "print(f\"Number of rows with no match: {counter}\")"
   ]
  },
  {
   "cell_type": "markdown",
   "metadata": {},
   "source": [
    "## Balancing positive and negative samples"
   ]
  },
  {
   "cell_type": "code",
   "execution_count": 10,
   "metadata": {},
   "outputs": [
    {
     "name": "stdout",
     "output_type": "stream",
     "text": [
      "Length before balancing positive and negative samples: 105562\n",
      "Number of positive samples: 65645\n",
      "Number of negative samples: 39917\n"
     ]
    }
   ],
   "source": [
    "print(f\"Length before balancing positive and negative samples: {len(df)}\")\n",
    "print(f\"Number of positive samples: {len(df[df['positive_negative'] == 'positive'])}\")\n",
    "print(f\"Number of negative samples: {len(df[df['positive_negative'] == 'negative'])}\")"
   ]
  },
  {
   "cell_type": "code",
   "execution_count": 11,
   "metadata": {},
   "outputs": [],
   "source": [
    "# We need to ensure that we have a split of positive and negative examples of 80/20\n",
    "# Therefore, we will calculate the amount of positive examples and remove negative examples until we have 80/20\n",
    "positive_examples = df[df[\"positive_negative\"] == \"positive\"]\n",
    "negative_examples = df[df[\"positive_negative\"] == \"negative\"]\n",
    "\n",
    "# Calculate the amount of negative examples we need to remove\n",
    "amount_to_remove = int(len(positive_examples) * 20 / 80)\n",
    "negative_examples = negative_examples.sample(frac=1, random_state=24).reset_index(\n",
    "    drop=True\n",
    ")\n",
    "negative_examples = negative_examples[:amount_to_remove]\n",
    "\n",
    "# Concatenate the positive and negative examples\n",
    "df = pd.concat([positive_examples, negative_examples])"
   ]
  },
  {
   "cell_type": "code",
   "execution_count": 12,
   "metadata": {},
   "outputs": [
    {
     "name": "stdout",
     "output_type": "stream",
     "text": [
      "Length after balancing positive and negative samples: 82056\n",
      "Number of positive samples: 65645\n",
      "Number of negative samples: 16411\n"
     ]
    }
   ],
   "source": [
    "print(f\"Length after balancing positive and negative samples: {len(df)}\")\n",
    "print(f\"Number of positive samples: {len(df[df['positive_negative'] == 'positive'])}\")\n",
    "print(f\"Number of negative samples: {len(df[df['positive_negative'] == 'negative'])}\")"
   ]
  },
  {
   "cell_type": "markdown",
   "metadata": {},
   "source": [
    "## Splitting"
   ]
  },
  {
   "cell_type": "code",
   "execution_count": 13,
   "metadata": {},
   "outputs": [
    {
     "data": {
      "text/html": [
       "<div>\n",
       "<style scoped>\n",
       "    .dataframe tbody tr th:only-of-type {\n",
       "        vertical-align: middle;\n",
       "    }\n",
       "\n",
       "    .dataframe tbody tr th {\n",
       "        vertical-align: top;\n",
       "    }\n",
       "\n",
       "    .dataframe thead th {\n",
       "        text-align: right;\n",
       "    }\n",
       "</style>\n",
       "<table border=\"1\" class=\"dataframe\">\n",
       "  <thead>\n",
       "    <tr style=\"text-align: right;\">\n",
       "      <th></th>\n",
       "      <th>q_id</th>\n",
       "      <th>q_name</th>\n",
       "      <th>p_id</th>\n",
       "      <th>p_name</th>\n",
       "      <th>p_value</th>\n",
       "      <th>p_value_type</th>\n",
       "      <th>positive_negative</th>\n",
       "      <th>text</th>\n",
       "      <th>transformed_text</th>\n",
       "    </tr>\n",
       "  </thead>\n",
       "  <tbody>\n",
       "    <tr>\n",
       "      <th>0</th>\n",
       "      <td>Q23</td>\n",
       "      <td>George Washington</td>\n",
       "      <td>P509</td>\n",
       "      <td>per:cause_of_death</td>\n",
       "      <td>epiglottitis</td>\n",
       "      <td>wikibase-item</td>\n",
       "      <td>positive</td>\n",
       "      <td>At his Mount Vernon estate, the venerable Geor...</td>\n",
       "      <td>At his Mount Vernon estate, the venerable [E1]...</td>\n",
       "    </tr>\n",
       "    <tr>\n",
       "      <th>1</th>\n",
       "      <td>Q23</td>\n",
       "      <td>George Washington</td>\n",
       "      <td>P20</td>\n",
       "      <td>per:place_of_death</td>\n",
       "      <td>Mount Vernon</td>\n",
       "      <td>wikibase-item</td>\n",
       "      <td>positive</td>\n",
       "      <td>At the stroke of a fateful day, December 14, 1...</td>\n",
       "      <td>At the stroke of a fateful day, December 14, 1...</td>\n",
       "    </tr>\n",
       "    <tr>\n",
       "      <th>2</th>\n",
       "      <td>Q23</td>\n",
       "      <td>George Washington</td>\n",
       "      <td>P26</td>\n",
       "      <td>per:spouse</td>\n",
       "      <td>Martha Washington</td>\n",
       "      <td>wikibase-item</td>\n",
       "      <td>positive</td>\n",
       "      <td>As the inaugural leader of the United States, ...</td>\n",
       "      <td>As the inaugural leader of the United States, ...</td>\n",
       "    </tr>\n",
       "    <tr>\n",
       "      <th>3</th>\n",
       "      <td>Q23</td>\n",
       "      <td>George Washington</td>\n",
       "      <td>P22</td>\n",
       "      <td>per:parents</td>\n",
       "      <td>Augustine Washington</td>\n",
       "      <td>wikibase-item</td>\n",
       "      <td>positive</td>\n",
       "      <td>In the verdant landscape of Westmoreland Count...</td>\n",
       "      <td>In the verdant landscape of Westmoreland Count...</td>\n",
       "    </tr>\n",
       "    <tr>\n",
       "      <th>4</th>\n",
       "      <td>Q23</td>\n",
       "      <td>George Washington</td>\n",
       "      <td>P25</td>\n",
       "      <td>per:parents</td>\n",
       "      <td>Mary Ball Washington</td>\n",
       "      <td>wikibase-item</td>\n",
       "      <td>positive</td>\n",
       "      <td>Born to Mary Ball Washington, a stalwart matri...</td>\n",
       "      <td>Born to [E2] Mary Ball Washington [/E2], a sta...</td>\n",
       "    </tr>\n",
       "  </tbody>\n",
       "</table>\n",
       "</div>"
      ],
      "text/plain": [
       "  q_id             q_name  p_id              p_name               p_value  \\\n",
       "0  Q23  George Washington  P509  per:cause_of_death          epiglottitis   \n",
       "1  Q23  George Washington   P20  per:place_of_death          Mount Vernon   \n",
       "2  Q23  George Washington   P26          per:spouse     Martha Washington   \n",
       "3  Q23  George Washington   P22         per:parents  Augustine Washington   \n",
       "4  Q23  George Washington   P25         per:parents  Mary Ball Washington   \n",
       "\n",
       "    p_value_type positive_negative  \\\n",
       "0  wikibase-item          positive   \n",
       "1  wikibase-item          positive   \n",
       "2  wikibase-item          positive   \n",
       "3  wikibase-item          positive   \n",
       "4  wikibase-item          positive   \n",
       "\n",
       "                                                text  \\\n",
       "0  At his Mount Vernon estate, the venerable Geor...   \n",
       "1  At the stroke of a fateful day, December 14, 1...   \n",
       "2  As the inaugural leader of the United States, ...   \n",
       "3  In the verdant landscape of Westmoreland Count...   \n",
       "4  Born to Mary Ball Washington, a stalwart matri...   \n",
       "\n",
       "                                    transformed_text  \n",
       "0  At his Mount Vernon estate, the venerable [E1]...  \n",
       "1  At the stroke of a fateful day, December 14, 1...  \n",
       "2  As the inaugural leader of the United States, ...  \n",
       "3  In the verdant landscape of Westmoreland Count...  \n",
       "4  Born to [E2] Mary Ball Washington [/E2], a sta...  "
      ]
     },
     "execution_count": 13,
     "metadata": {},
     "output_type": "execute_result"
    }
   ],
   "source": [
    "df.head()"
   ]
  },
  {
   "cell_type": "code",
   "execution_count": 14,
   "metadata": {},
   "outputs": [
    {
     "data": {
      "image/png": "[encoded data removed]",
      "text/plain": [
       "<Figure size 640x480 with 1 Axes>"
      ]
     },
     "metadata": {},
     "output_type": "display_data"
    }
   ],
   "source": [
    "# Checkk the distribution of relations before splitting the dataset\n",
    "def plot_relation_distribution(dataframe: pd.DataFrame, title: str):\n",
    "    \"\"\"\n",
    "    Plot the distribution of relations in a column plot, excluding no_relation\n",
    "    \"\"\"\n",
    "    relation_distribution = dataframe[\"p_name\"].value_counts()\n",
    "    relation_distribution = relation_distribution.drop(\"no_relation\")\n",
    "    relation_distribution.plot(kind=\"bar\", title=title)\n",
    "    plt.show()\n",
    "\n",
    "\n",
    "plot_relation_distribution(df, \"Train Data Relation Distribution\")"
   ]
  },
  {
   "cell_type": "code",
   "execution_count": 15,
   "metadata": {},
   "outputs": [],
   "source": [
    "# Now, we divide the data into training, validation and test sets, with respect to the column q_id\n",
    "q_ids = df.q_id.unique()\n",
    "q_ids = pd.Series(q_ids).sample(frac=1, random_state=24)\n",
    "n = len(q_ids)\n",
    "train_q_ids = q_ids[: int(0.8 * n)]\n",
    "valid_q_ids = q_ids[int(0.8 * n) : int(0.9 * n)]\n",
    "test_q_ids = q_ids[int(0.9 * n) :]\n",
    "\n",
    "train_df = df[df.q_id.isin(train_q_ids)]\n",
    "valid_df = df[df.q_id.isin(valid_q_ids)]\n",
    "test_df = df[df.q_id.isin(test_q_ids)]"
   ]
  },
  {
   "cell_type": "code",
   "execution_count": 16,
   "metadata": {},
   "outputs": [
    {
     "data": {
      "image/png": "[encoded data removed]",
      "text/plain": [
       "<Figure size 640x480 with 1 Axes>"
      ]
     },
     "metadata": {},
     "output_type": "display_data"
    }
   ],
   "source": [
    "plot_relation_distribution(train_df, \"Train Data Relation Distribution\")"
   ]
  },
  {
   "cell_type": "code",
   "execution_count": 17,
   "metadata": {},
   "outputs": [
    {
     "data": {
      "text/html": [
       "<div>\n",
       "<style scoped>\n",
       "    .dataframe tbody tr th:only-of-type {\n",
       "        vertical-align: middle;\n",
       "    }\n",
       "\n",
       "    .dataframe tbody tr th {\n",
       "        vertical-align: top;\n",
       "    }\n",
       "\n",
       "    .dataframe thead th {\n",
       "        text-align: right;\n",
       "    }\n",
       "</style>\n",
       "<table border=\"1\" class=\"dataframe\">\n",
       "  <thead>\n",
       "    <tr style=\"text-align: right;\">\n",
       "      <th></th>\n",
       "      <th>q_id</th>\n",
       "      <th>q_name</th>\n",
       "      <th>p_id</th>\n",
       "      <th>p_name</th>\n",
       "      <th>p_value</th>\n",
       "      <th>p_value_type</th>\n",
       "      <th>positive_negative</th>\n",
       "      <th>text</th>\n",
       "      <th>transformed_text</th>\n",
       "    </tr>\n",
       "  </thead>\n",
       "  <tbody>\n",
       "    <tr>\n",
       "      <th>0</th>\n",
       "      <td>Q23</td>\n",
       "      <td>George Washington</td>\n",
       "      <td>P509</td>\n",
       "      <td>per:cause_of_death</td>\n",
       "      <td>epiglottitis</td>\n",
       "      <td>wikibase-item</td>\n",
       "      <td>positive</td>\n",
       "      <td>At his Mount Vernon estate, the venerable Geor...</td>\n",
       "      <td>At his Mount Vernon estate, the venerable [E1]...</td>\n",
       "    </tr>\n",
       "    <tr>\n",
       "      <th>1</th>\n",
       "      <td>Q23</td>\n",
       "      <td>George Washington</td>\n",
       "      <td>P20</td>\n",
       "      <td>per:place_of_death</td>\n",
       "      <td>Mount Vernon</td>\n",
       "      <td>wikibase-item</td>\n",
       "      <td>positive</td>\n",
       "      <td>At the stroke of a fateful day, December 14, 1...</td>\n",
       "      <td>At the stroke of a fateful day, December 14, 1...</td>\n",
       "    </tr>\n",
       "    <tr>\n",
       "      <th>2</th>\n",
       "      <td>Q23</td>\n",
       "      <td>George Washington</td>\n",
       "      <td>P26</td>\n",
       "      <td>per:spouse</td>\n",
       "      <td>Martha Washington</td>\n",
       "      <td>wikibase-item</td>\n",
       "      <td>positive</td>\n",
       "      <td>As the inaugural leader of the United States, ...</td>\n",
       "      <td>As the inaugural leader of the United States, ...</td>\n",
       "    </tr>\n",
       "    <tr>\n",
       "      <th>3</th>\n",
       "      <td>Q23</td>\n",
       "      <td>George Washington</td>\n",
       "      <td>P22</td>\n",
       "      <td>per:parents</td>\n",
       "      <td>Augustine Washington</td>\n",
       "      <td>wikibase-item</td>\n",
       "      <td>positive</td>\n",
       "      <td>In the verdant landscape of Westmoreland Count...</td>\n",
       "      <td>In the verdant landscape of Westmoreland Count...</td>\n",
       "    </tr>\n",
       "    <tr>\n",
       "      <th>4</th>\n",
       "      <td>Q23</td>\n",
       "      <td>George Washington</td>\n",
       "      <td>P25</td>\n",
       "      <td>per:parents</td>\n",
       "      <td>Mary Ball Washington</td>\n",
       "      <td>wikibase-item</td>\n",
       "      <td>positive</td>\n",
       "      <td>Born to Mary Ball Washington, a stalwart matri...</td>\n",
       "      <td>Born to [E2] Mary Ball Washington [/E2], a sta...</td>\n",
       "    </tr>\n",
       "  </tbody>\n",
       "</table>\n",
       "</div>"
      ],
      "text/plain": [
       "  q_id             q_name  p_id              p_name               p_value  \\\n",
       "0  Q23  George Washington  P509  per:cause_of_death          epiglottitis   \n",
       "1  Q23  George Washington   P20  per:place_of_death          Mount Vernon   \n",
       "2  Q23  George Washington   P26          per:spouse     Martha Washington   \n",
       "3  Q23  George Washington   P22         per:parents  Augustine Washington   \n",
       "4  Q23  George Washington   P25         per:parents  Mary Ball Washington   \n",
       "\n",
       "    p_value_type positive_negative  \\\n",
       "0  wikibase-item          positive   \n",
       "1  wikibase-item          positive   \n",
       "2  wikibase-item          positive   \n",
       "3  wikibase-item          positive   \n",
       "4  wikibase-item          positive   \n",
       "\n",
       "                                                text  \\\n",
       "0  At his Mount Vernon estate, the venerable Geor...   \n",
       "1  At the stroke of a fateful day, December 14, 1...   \n",
       "2  As the inaugural leader of the United States, ...   \n",
       "3  In the verdant landscape of Westmoreland Count...   \n",
       "4  Born to Mary Ball Washington, a stalwart matri...   \n",
       "\n",
       "                                    transformed_text  \n",
       "0  At his Mount Vernon estate, the venerable [E1]...  \n",
       "1  At the stroke of a fateful day, December 14, 1...  \n",
       "2  As the inaugural leader of the United States, ...  \n",
       "3  In the verdant landscape of Westmoreland Count...  \n",
       "4  Born to [E2] Mary Ball Washington [/E2], a sta...  "
      ]
     },
     "execution_count": 17,
     "metadata": {},
     "output_type": "execute_result"
    }
   ],
   "source": [
    "train_df.head()"
   ]
  },
  {
   "cell_type": "code",
   "execution_count": 18,
   "metadata": {},
   "outputs": [
    {
     "name": "stdout",
     "output_type": "stream",
     "text": [
      "Train: 65841\n",
      "Valid: 8224\n",
      "Test: 7991\n"
     ]
    }
   ],
   "source": [
    "print(f\"Train: {len(train_df)}\")\n",
    "print(f\"Valid: {len(valid_df)}\")\n",
    "print(f\"Test: {len(test_df)}\")"
   ]
  },
  {
   "cell_type": "markdown",
   "metadata": {},
   "source": [
    "## Final formatting"
   ]
  },
  {
   "cell_type": "code",
   "execution_count": 19,
   "metadata": {},
   "outputs": [],
   "source": [
    "# Change the column name of q_name to subject\n",
    "train_df = train_df.rename(columns={\"q_name\": \"subject\"})\n",
    "valid_df = valid_df.rename(columns={\"q_name\": \"subject\"})\n",
    "test_df = test_df.rename(columns={\"q_name\": \"subject\"})\n",
    "\n",
    "# Change the column name of p_name to relation\n",
    "train_df = train_df.rename(columns={\"p_name\": \"relation\"})\n",
    "valid_df = valid_df.rename(columns={\"p_name\": \"relation\"})\n",
    "test_df = test_df.rename(columns={\"p_name\": \"relation\"})\n",
    "\n",
    "# Change the column name of p_value to object\n",
    "train_df = train_df.rename(columns={\"p_value\": \"object\"})\n",
    "valid_df = valid_df.rename(columns={\"p_value\": \"object\"})\n",
    "test_df = test_df.rename(columns={\"p_value\": \"object\"})"
   ]
  },
  {
   "cell_type": "markdown",
   "metadata": {},
   "source": [
    "## Saving datasets into csv"
   ]
  },
  {
   "cell_type": "code",
   "execution_count": 20,
   "metadata": {},
   "outputs": [],
   "source": [
    "train_df.to_csv(\"../data/wikidata_triplet2text_alpha_generated_train.csv\", index=False)\n",
    "valid_df.to_csv(\"../data/wikidata_triplet2text_alpha_generated_valid.csv\", index=False)\n",
    "test_df.to_csv(\"../data/wikidata_triplet2text_alpha_generated_test.csv\", index=False)"
   ]
  }
 ],
 "metadata": {
  "kernelspec": {
   "display_name": ".venv",
   "language": "python",
   "name": "python3"
  },
  "language_info": {
   "codemirror_mode": {
    "name": "ipython",
    "version": 3
   },
   "file_extension": ".py",
   "mimetype": "text/x-python",
   "name": "python",
   "nbconvert_exporter": "python",
   "pygments_lexer": "ipython3",
   "version": "3.9.7"
  }
 },
 "nbformat": 4,
 "nbformat_minor": 2
}
