{
 "cells": [
  {
   "cell_type": "markdown",
   "metadata": {},
   "source": [
    "# Dataset dreprocessing for triplet-to-text generation"
   ]
  },
  {
   "cell_type": "code",
   "execution_count": 1,
   "metadata": {},
   "outputs": [],
   "source": [
    "import pandas as pd\n",
    "from tqdm import tqdm"
   ]
  },
  {
   "cell_type": "code",
   "execution_count": 2,
   "metadata": {},
   "outputs": [],
   "source": [
    "columns = [\n",
    "    \"q_id\",\n",
    "    \"q_name\",\n",
    "    \"p_id\",\n",
    "    \"p_name\",\n",
    "    \"p_value\",\n",
    "    \"p_value_type\",\n",
    "    \"positive_negative\",\n",
    "]\n",
    "alpha_generation_df = pd.DataFrame(columns=columns)"
   ]
  },
  {
   "cell_type": "markdown",
   "metadata": {},
   "source": [
    "## Positive triplets"
   ]
  },
  {
   "cell_type": "code",
   "execution_count": 3,
   "metadata": {},
   "outputs": [],
   "source": [
    "positive_triplets_df = pd.read_csv(\"../data/wikidata_triplets_beta.csv\")"
   ]
  },
  {
   "cell_type": "code",
   "execution_count": 4,
   "metadata": {},
   "outputs": [
    {
     "name": "stderr",
     "output_type": "stream",
     "text": [
      "Appending positive triplets: 100%|██████████| 77246/77246 [01:33<00:00, 830.11it/s] \n"
     ]
    }
   ],
   "source": [
    "for index, row in tqdm(\n",
    "    positive_triplets_df.iterrows(),\n",
    "    total=positive_triplets_df.shape[0],\n",
    "    desc=\"Appending positive triplets\",\n",
    "):\n",
    "    q_id = row[\"q_id\"]\n",
    "    q_name = row[\"q_name\"]\n",
    "    p_id = row[\"p_id\"]\n",
    "    p_name = row[\"p_name\"]\n",
    "    p_value = row[\"p_value\"]\n",
    "    p_value_type = row[\"p_value_type\"]\n",
    "    positive_negative = \"positive\"\n",
    "    alpha_generation_df = pd.concat(\n",
    "        [\n",
    "            alpha_generation_df,\n",
    "            pd.DataFrame(\n",
    "                [\n",
    "                    [\n",
    "                        q_id,\n",
    "                        q_name,\n",
    "                        p_id,\n",
    "                        p_name,\n",
    "                        p_value,\n",
    "                        p_value_type,\n",
    "                        positive_negative,\n",
    "                    ]\n",
    "                ],\n",
    "                columns=columns,\n",
    "            ),\n",
    "        ],\n",
    "        ignore_index=True,\n",
    "    )"
   ]
  },
  {
   "cell_type": "code",
   "execution_count": 5,
   "metadata": {},
   "outputs": [
    {
     "data": {
      "text/html": [
       "<div>\n",
       "<style scoped>\n",
       "    .dataframe tbody tr th:only-of-type {\n",
       "        vertical-align: middle;\n",
       "    }\n",
       "\n",
       "    .dataframe tbody tr th {\n",
       "        vertical-align: top;\n",
       "    }\n",
       "\n",
       "    .dataframe thead th {\n",
       "        text-align: right;\n",
       "    }\n",
       "</style>\n",
       "<table border=\"1\" class=\"dataframe\">\n",
       "  <thead>\n",
       "    <tr style=\"text-align: right;\">\n",
       "      <th></th>\n",
       "      <th>q_id</th>\n",
       "      <th>q_name</th>\n",
       "      <th>p_id</th>\n",
       "      <th>p_name</th>\n",
       "      <th>p_value</th>\n",
       "      <th>p_value_type</th>\n",
       "      <th>positive_negative</th>\n",
       "    </tr>\n",
       "  </thead>\n",
       "  <tbody>\n",
       "    <tr>\n",
       "      <th>0</th>\n",
       "      <td>Q23</td>\n",
       "      <td>George Washington</td>\n",
       "      <td>P509</td>\n",
       "      <td>cause_of_death</td>\n",
       "      <td>epiglottitis</td>\n",
       "      <td>wikibase-item</td>\n",
       "      <td>positive</td>\n",
       "    </tr>\n",
       "    <tr>\n",
       "      <th>1</th>\n",
       "      <td>Q23</td>\n",
       "      <td>George Washington</td>\n",
       "      <td>P20</td>\n",
       "      <td>place_of_death</td>\n",
       "      <td>Mount Vernon</td>\n",
       "      <td>wikibase-item</td>\n",
       "      <td>positive</td>\n",
       "    </tr>\n",
       "    <tr>\n",
       "      <th>2</th>\n",
       "      <td>Q23</td>\n",
       "      <td>George Washington</td>\n",
       "      <td>P26</td>\n",
       "      <td>spouse</td>\n",
       "      <td>Martha Washington</td>\n",
       "      <td>wikibase-item</td>\n",
       "      <td>positive</td>\n",
       "    </tr>\n",
       "    <tr>\n",
       "      <th>3</th>\n",
       "      <td>Q23</td>\n",
       "      <td>George Washington</td>\n",
       "      <td>P22</td>\n",
       "      <td>father</td>\n",
       "      <td>Augustine Washington</td>\n",
       "      <td>wikibase-item</td>\n",
       "      <td>positive</td>\n",
       "    </tr>\n",
       "    <tr>\n",
       "      <th>4</th>\n",
       "      <td>Q23</td>\n",
       "      <td>George Washington</td>\n",
       "      <td>P25</td>\n",
       "      <td>mother</td>\n",
       "      <td>Mary Ball Washington</td>\n",
       "      <td>wikibase-item</td>\n",
       "      <td>positive</td>\n",
       "    </tr>\n",
       "  </tbody>\n",
       "</table>\n",
       "</div>"
      ],
      "text/plain": [
       "  q_id             q_name  p_id          p_name               p_value  \\\n",
       "0  Q23  George Washington  P509  cause_of_death          epiglottitis   \n",
       "1  Q23  George Washington   P20  place_of_death          Mount Vernon   \n",
       "2  Q23  George Washington   P26          spouse     Martha Washington   \n",
       "3  Q23  George Washington   P22          father  Augustine Washington   \n",
       "4  Q23  George Washington   P25          mother  Mary Ball Washington   \n",
       "\n",
       "    p_value_type positive_negative  \n",
       "0  wikibase-item          positive  \n",
       "1  wikibase-item          positive  \n",
       "2  wikibase-item          positive  \n",
       "3  wikibase-item          positive  \n",
       "4  wikibase-item          positive  "
      ]
     },
     "execution_count": 5,
     "metadata": {},
     "output_type": "execute_result"
    }
   ],
   "source": [
    "alpha_generation_df.head()"
   ]
  },
  {
   "cell_type": "code",
   "execution_count": 6,
   "metadata": {},
   "outputs": [
    {
     "data": {
      "text/plain": [
       "(77246, 7)"
      ]
     },
     "execution_count": 6,
     "metadata": {},
     "output_type": "execute_result"
    }
   ],
   "source": [
    "alpha_generation_df.shape"
   ]
  },
  {
   "cell_type": "markdown",
   "metadata": {},
   "source": [
    "## Negative triplets"
   ]
  },
  {
   "cell_type": "code",
   "execution_count": 7,
   "metadata": {},
   "outputs": [
    {
     "data": {
      "text/plain": [
       "54"
      ]
     },
     "execution_count": 7,
     "metadata": {},
     "output_type": "execute_result"
    }
   ],
   "source": [
    "accepted_p_values = [\n",
    "    \"P21\",\n",
    "    \"P1412\",\n",
    "    \"P1343\",\n",
    "    \"P166\",\n",
    "    \"P101\",\n",
    "    \"P641\",\n",
    "    \"P1344\",\n",
    "    \"P910\",\n",
    "    \"P103\",\n",
    "    \"P2048\",\n",
    "    \"P6886\",\n",
    "    \"P8687\",\n",
    "    \"P7763\",\n",
    "    \"P2067\",\n",
    "    \"P1532\",\n",
    "    \"P136\",\n",
    "    \"P607\",\n",
    "    \"P413\",\n",
    "    \"P1303\",\n",
    "    \"P800\",\n",
    "    \"P1889\",\n",
    "    \"P6379\",\n",
    "    \"P131\",\n",
    "    \"P1411\",\n",
    "    \"P1971\",\n",
    "    \"P485\",\n",
    "    \"P184\",\n",
    "    \"P10527\",\n",
    "    \"P264\",\n",
    "    \"P172\",\n",
    "    \"P2416\",\n",
    "    \"P135\",\n",
    "    \"P1454\",\n",
    "    \"P451\",\n",
    "    \"P793\",\n",
    "    \"P7084\",\n",
    "    \"P9493\",\n",
    "    \"P6275\",\n",
    "    \"P1350\",\n",
    "    \"P3602\",\n",
    "    \"P1299\",\n",
    "    \"P1618\",\n",
    "    \"P737\",\n",
    "    \"P358\",\n",
    "    \"P1050\",\n",
    "    \"P2632\",\n",
    "    \"P2348\",\n",
    "    \"P1598\",\n",
    "    \"P1884\",\n",
    "    \"P412\",\n",
    "    \"P1340\",\n",
    "    \"P528\",\n",
    "    \"P1424\",\n",
    "    \"P2031\",\n",
    "]\n",
    "len(accepted_p_values)"
   ]
  },
  {
   "cell_type": "code",
   "execution_count": 8,
   "metadata": {},
   "outputs": [],
   "source": [
    "negative_triplets_df = pd.read_csv(\"../data/wikidata_triplets_negative_beta.csv\")"
   ]
  },
  {
   "cell_type": "code",
   "execution_count": 9,
   "metadata": {},
   "outputs": [
    {
     "name": "stderr",
     "output_type": "stream",
     "text": [
      "Appending negative triplets: 100%|██████████| 121163/121163 [02:47<00:00, 722.03it/s] "
     ]
    },
    {
     "name": "stdout",
     "output_type": "stream",
     "text": [
      "Accepted: 50571\n",
      "Rejected: 70592\n"
     ]
    },
    {
     "name": "stderr",
     "output_type": "stream",
     "text": [
      "\n"
     ]
    }
   ],
   "source": [
    "counter_accepted = 0\n",
    "counter_rejected = 0\n",
    "\n",
    "for index, row in tqdm(\n",
    "    negative_triplets_df.iterrows(),\n",
    "    total=negative_triplets_df.shape[0],\n",
    "    desc=\"Appending negative triplets\",\n",
    "):\n",
    "    if row[\"p_id\"] not in accepted_p_values:\n",
    "        counter_rejected += 1\n",
    "        continue\n",
    "    q_id = row[\"q_id\"]\n",
    "    q_name = row[\"q_name\"]\n",
    "    p_id = row[\"p_id\"]\n",
    "    p_name = row[\"p_name\"]\n",
    "    p_value = row[\"p_value\"]\n",
    "    p_value_type = row[\"p_value_type\"]\n",
    "    positive_negative = \"negative\"\n",
    "    alpha_generation_df = pd.concat(\n",
    "        [\n",
    "            alpha_generation_df,\n",
    "            pd.DataFrame(\n",
    "                [\n",
    "                    [\n",
    "                        q_id,\n",
    "                        q_name,\n",
    "                        p_id,\n",
    "                        p_name,\n",
    "                        p_value,\n",
    "                        p_value_type,\n",
    "                        positive_negative,\n",
    "                    ]\n",
    "                ],\n",
    "                columns=columns,\n",
    "            ),\n",
    "        ],\n",
    "        ignore_index=True,\n",
    "    )\n",
    "    counter_accepted += 1\n",
    "\n",
    "print(f\"Accepted: {counter_accepted}\")\n",
    "print(f\"Rejected: {counter_rejected}\")"
   ]
  },
  {
   "cell_type": "code",
   "execution_count": 10,
   "metadata": {},
   "outputs": [
    {
     "data": {
      "text/html": [
       "<div>\n",
       "<style scoped>\n",
       "    .dataframe tbody tr th:only-of-type {\n",
       "        vertical-align: middle;\n",
       "    }\n",
       "\n",
       "    .dataframe tbody tr th {\n",
       "        vertical-align: top;\n",
       "    }\n",
       "\n",
       "    .dataframe thead th {\n",
       "        text-align: right;\n",
       "    }\n",
       "</style>\n",
       "<table border=\"1\" class=\"dataframe\">\n",
       "  <thead>\n",
       "    <tr style=\"text-align: right;\">\n",
       "      <th></th>\n",
       "      <th>q_id</th>\n",
       "      <th>q_name</th>\n",
       "      <th>p_id</th>\n",
       "      <th>p_name</th>\n",
       "      <th>p_value</th>\n",
       "      <th>p_value_type</th>\n",
       "      <th>positive_negative</th>\n",
       "    </tr>\n",
       "  </thead>\n",
       "  <tbody>\n",
       "    <tr>\n",
       "      <th>0</th>\n",
       "      <td>Q23</td>\n",
       "      <td>George Washington</td>\n",
       "      <td>P509</td>\n",
       "      <td>cause_of_death</td>\n",
       "      <td>epiglottitis</td>\n",
       "      <td>wikibase-item</td>\n",
       "      <td>positive</td>\n",
       "    </tr>\n",
       "    <tr>\n",
       "      <th>1</th>\n",
       "      <td>Q23</td>\n",
       "      <td>George Washington</td>\n",
       "      <td>P20</td>\n",
       "      <td>place_of_death</td>\n",
       "      <td>Mount Vernon</td>\n",
       "      <td>wikibase-item</td>\n",
       "      <td>positive</td>\n",
       "    </tr>\n",
       "    <tr>\n",
       "      <th>2</th>\n",
       "      <td>Q23</td>\n",
       "      <td>George Washington</td>\n",
       "      <td>P26</td>\n",
       "      <td>spouse</td>\n",
       "      <td>Martha Washington</td>\n",
       "      <td>wikibase-item</td>\n",
       "      <td>positive</td>\n",
       "    </tr>\n",
       "    <tr>\n",
       "      <th>3</th>\n",
       "      <td>Q23</td>\n",
       "      <td>George Washington</td>\n",
       "      <td>P22</td>\n",
       "      <td>father</td>\n",
       "      <td>Augustine Washington</td>\n",
       "      <td>wikibase-item</td>\n",
       "      <td>positive</td>\n",
       "    </tr>\n",
       "    <tr>\n",
       "      <th>4</th>\n",
       "      <td>Q23</td>\n",
       "      <td>George Washington</td>\n",
       "      <td>P25</td>\n",
       "      <td>mother</td>\n",
       "      <td>Mary Ball Washington</td>\n",
       "      <td>wikibase-item</td>\n",
       "      <td>positive</td>\n",
       "    </tr>\n",
       "  </tbody>\n",
       "</table>\n",
       "</div>"
      ],
      "text/plain": [
       "  q_id             q_name  p_id          p_name               p_value  \\\n",
       "0  Q23  George Washington  P509  cause_of_death          epiglottitis   \n",
       "1  Q23  George Washington   P20  place_of_death          Mount Vernon   \n",
       "2  Q23  George Washington   P26          spouse     Martha Washington   \n",
       "3  Q23  George Washington   P22          father  Augustine Washington   \n",
       "4  Q23  George Washington   P25          mother  Mary Ball Washington   \n",
       "\n",
       "    p_value_type positive_negative  \n",
       "0  wikibase-item          positive  \n",
       "1  wikibase-item          positive  \n",
       "2  wikibase-item          positive  \n",
       "3  wikibase-item          positive  \n",
       "4  wikibase-item          positive  "
      ]
     },
     "execution_count": 10,
     "metadata": {},
     "output_type": "execute_result"
    }
   ],
   "source": [
    "alpha_generation_df.head()"
   ]
  },
  {
   "cell_type": "code",
   "execution_count": 11,
   "metadata": {},
   "outputs": [
    {
     "data": {
      "text/plain": [
       "(127817, 7)"
      ]
     },
     "execution_count": 11,
     "metadata": {},
     "output_type": "execute_result"
    }
   ],
   "source": [
    "alpha_generation_df.shape"
   ]
  },
  {
   "cell_type": "markdown",
   "metadata": {},
   "source": [
    "## Exporting the dataset"
   ]
  },
  {
   "cell_type": "code",
   "execution_count": 12,
   "metadata": {},
   "outputs": [],
   "source": [
    "alpha_generation_df.to_csv(\"../data/wikidata_triplet2text_alpha.csv\", index=False)"
   ]
  },
  {
   "cell_type": "markdown",
   "metadata": {},
   "source": [
    "## Dataset Stats"
   ]
  },
  {
   "cell_type": "code",
   "execution_count": 13,
   "metadata": {},
   "outputs": [
    {
     "data": {
      "text/plain": [
       "positive_negative\n",
       "positive    77246\n",
       "negative    50571\n",
       "Name: count, dtype: int64"
      ]
     },
     "execution_count": 13,
     "metadata": {},
     "output_type": "execute_result"
    }
   ],
   "source": [
    "# Number of positive triplets vs negative triplets in the dataset\n",
    "alpha_generation_df[\"positive_negative\"].value_counts()"
   ]
  }
 ],
 "metadata": {
  "kernelspec": {
   "display_name": ".venv",
   "language": "python",
   "name": "python3"
  },
  "language_info": {
   "codemirror_mode": {
    "name": "ipython",
    "version": 3
   },
   "file_extension": ".py",
   "mimetype": "text/x-python",
   "name": "python",
   "nbconvert_exporter": "python",
   "pygments_lexer": "ipython3",
   "version": "3.10.14"
  }
 },
 "nbformat": 4,
 "nbformat_minor": 2
}
