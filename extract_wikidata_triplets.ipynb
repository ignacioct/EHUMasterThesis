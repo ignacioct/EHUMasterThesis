{
 "cells": [
  {
   "cell_type": "markdown",
   "metadata": {},
   "source": [
    "# Wikidata Triplets Extraction"
   ]
  },
  {
   "cell_type": "code",
   "execution_count": 9,
   "metadata": {},
   "outputs": [],
   "source": [
    "import bz2\n",
    "import json\n",
    "import os"
   ]
  },
  {
   "cell_type": "markdown",
   "metadata": {},
   "source": [
    "## Data Visualization"
   ]
  },
  {
   "cell_type": "code",
   "execution_count": null,
   "metadata": {},
   "outputs": [],
   "source": [
    "def process_symbolic_link(symlink_path: str, subdirectory_level_1: bool = True) -> str:\n",
    "    \"\"\"\n",
    "    Process a symbolic link and return its real path.\n",
    "\n",
    "    This function takes a symbolic link path, resolves it to its absolute path,\n",
    "    and then returns the real path that the symlink points to. If the input path\n",
    "    is not a symlink, it returns the absolute path.\n",
    "\n",
    "    Args:\n",
    "        symlink_path (str): The path to the symbolic link or file.\n",
    "        subdirectory_level_1 (bool, optional): If True, prepend \"../\" to the real path.\n",
    "            Defaults to True.\n",
    "\n",
    "    Returns:\n",
    "        str: The real path that the symlink points to, or the absolute path if\n",
    "             the input is not a symlink. If subdirectory_level_1 is True, \"../\"\n",
    "             is prepended to the path.\n",
    "    \"\"\"\n",
    "    # Function implementation...\n",
    "\n",
    "\n",
    "def process_bz2_json(file_path, chunk_size=1024):\n",
    "    buffer = b''  # Buffer to hold incomplete data between chunks\n",
    "\n",
    "    with bz2.BZ2File(file_path, 'rb') as f:\n",
    "        while True:\n",
    "            chunk = f.read(chunk_size)\n",
    "            if not chunk:\n",
    "                break\n",
    "\n",
    "            # Append new chunk to buffer\n",
    "            buffer += chunk\n",
    "\n",
    "            # Split buffer into lines\n",
    "            lines = buffer.split(b'\\n')\n",
    "\n",
    "            # Keep the last line in the buffer (it might be incomplete)\n",
    "            buffer = lines.pop()\n",
    "\n",
    "            for line in lines:\n",
    "                if line:  # Ensure the line is not empty\n",
    "                    try:\n",
    "                        data = json.loads(line.decode('utf-8'))\n",
    "                        # Process each JSON object here\n",
    "                        print(data)  # Example: print or handle the data as needed\n",
    "                    except json.JSONDecodeError as e:\n",
    "                        print(f\"Error decoding JSON: {e}\")\n",
    "\n",
    "    # Process any remaining data in the buffer\n",
    "    if buffer:\n",
    "        try:\n",
    "            data = json.loads(buffer.decode('utf-8'))\n",
    "            # Process the final JSON object\n",
    "            print(data)\n",
    "        except json.JSONDecodeError as e:\n",
    "            print(f\"Error decoding final JSON: {e}\")"
   ]
  },
  {
   "cell_type": "code",
   "execution_count": null,
   "metadata": {},
   "outputs": [
    {
     "name": "stdout",
     "output_type": "stream",
     "text": [
      "{'hash': '4184761a7a383068891352abde9166172cd65a2b', 'snaks': {'P248': [{'snaktype': 'value', 'property': 'P248', 'datavalue': {'value': {'entity-type': 'item', 'numeric-id': 902623, 'id': 'Q902623'}, 'type': 'wikibase-entityid'}, 'datatype': 'wikibase-item'}], 'P683': [{'snaktype': 'value', 'property': 'P683', 'datavalue': {'value': '15440', 'type': 'string'}, 'datatype': 'external-id'}], 'P407': [{'snaktype': 'value', 'property': 'P407', 'datavalue': {'value': {'entity-type': 'item', 'numeric-id': 1860, 'id': 'Q1860'}, 'type': 'wikibase-entityid'}, 'datatype': 'wikibase-item'}], 'P1476': [{'snaktype': 'value', 'property': 'P1476', 'datavalue': {'value': {'text': 'squalene', 'language': 'en'}, 'type': 'monolingualtext'}, 'datatype': 'monolingualtext'}], 'P813': [{'snaktype': 'value', 'property': 'P813', 'datavalue': {'value': {'time': '+2016-10-19T00:00:00Z', 'timezone': 0, 'before': 0, 'after': 0, 'precision': 11, 'calendarmodel': 'http://www.wikidata.org/entity/Q1985727'}, 'type': 'time'}, 'datatype': 'time'}]}, 'snaks-order': ['P248', 'P683', 'P407', 'P1476', 'P813']}\n",
      "{'mainsnak': {'snaktype': 'value', 'property': 'P69', 'datavalue': {'value': {'entity-type': 'item', 'numeric-id': 1636837, 'id': 'Q1636837'}, 'type': 'wikibase-entityid'}, 'datatype': 'wikibase-item'}, 'type': 'statement', 'id': 'Q444059$8205234D-4D0D-421B-927E-13D45596511A', 'rank': 'normal', 'references': [{'hash': 'a6cd5d59c1b090e8e8f5c88047e4e300518b39fb', 'snaks': {'P813': [{'snaktype': 'value', 'property': 'P813', 'datavalue': {'value': {'time': '+2019-07-10T00:00:00Z', 'timezone': 0, 'before': 0, 'after': 0, 'precision': 11, 'calendarmodel': 'http://www.wikidata.org/entity/Q1985727'}, 'type': 'time'}, 'datatype': 'time'}], 'P3452': [{'snaktype': 'value', 'property': 'P3452', 'datavalue': {'value': {'entity-type': 'item', 'numeric-id': 30846129, 'id': 'Q30846129'}, 'type': 'wikibase-entityid'}, 'datatype': 'wikibase-item'}], 'P143': [{'snaktype': 'value', 'property': 'P143', 'datavalue': {'value': {'entity-type': 'item', 'numeric-id': 8449, 'id': 'Q8449'}, 'type': 'wikibase-entityid'}, 'datatype': 'wikibase-item'}]}, 'snaks-order': ['P813', 'P3452', 'P143']}]}\n"
     ]
    },
    {
     "ename": "KeyboardInterrupt",
     "evalue": "",
     "output_type": "error",
     "traceback": [
      "\u001b[0;31m---------------------------------------------------------------------------\u001b[0m",
      "\u001b[0;31mKeyboardInterrupt\u001b[0m                         Traceback (most recent call last)",
      "Cell \u001b[0;32mIn[12], line 18\u001b[0m\n\u001b[1;32m     14\u001b[0m \u001b[38;5;28;01melse\u001b[39;00m:\n\u001b[1;32m     15\u001b[0m     real_path \u001b[38;5;241m=\u001b[39m absolute_path\n\u001b[0;32m---> 18\u001b[0m \u001b[43mprocess_bz2_json\u001b[49m\u001b[43m(\u001b[49m\u001b[38;5;124;43m\"\u001b[39;49m\u001b[38;5;124;43m../\u001b[39;49m\u001b[38;5;124;43m\"\u001b[39;49m\u001b[43m \u001b[49m\u001b[38;5;241;43m+\u001b[39;49m\u001b[43m \u001b[49m\u001b[43mreal_path\u001b[49m\u001b[43m)\u001b[49m\n",
      "Cell \u001b[0;32mIn[2], line 4\u001b[0m, in \u001b[0;36mprocess_bz2_json\u001b[0;34m(filename, chunk_size)\u001b[0m\n\u001b[1;32m      2\u001b[0m \u001b[38;5;28;01mwith\u001b[39;00m bz2\u001b[38;5;241m.\u001b[39mBZ2File(filename, \u001b[38;5;124m'\u001b[39m\u001b[38;5;124mrb\u001b[39m\u001b[38;5;124m'\u001b[39m) \u001b[38;5;28;01mas\u001b[39;00m f:\n\u001b[1;32m      3\u001b[0m     \u001b[38;5;28;01mwhile\u001b[39;00m \u001b[38;5;28;01mTrue\u001b[39;00m:\n\u001b[0;32m----> 4\u001b[0m         chunk \u001b[38;5;241m=\u001b[39m \u001b[43mf\u001b[49m\u001b[38;5;241;43m.\u001b[39;49m\u001b[43mread\u001b[49m\u001b[43m(\u001b[49m\u001b[43mchunk_size\u001b[49m\u001b[43m)\u001b[49m\n\u001b[1;32m      5\u001b[0m         \u001b[38;5;28;01mif\u001b[39;00m \u001b[38;5;129;01mnot\u001b[39;00m chunk:\n\u001b[1;32m      6\u001b[0m             \u001b[38;5;28;01mbreak\u001b[39;00m\n",
      "File \u001b[0;32m/usr/local/lib/python3.9/bz2.py:171\u001b[0m, in \u001b[0;36mBZ2File.read\u001b[0;34m(self, size)\u001b[0m\n\u001b[1;32m    169\u001b[0m \u001b[38;5;28;01mwith\u001b[39;00m \u001b[38;5;28mself\u001b[39m\u001b[38;5;241m.\u001b[39m_lock:\n\u001b[1;32m    170\u001b[0m     \u001b[38;5;28mself\u001b[39m\u001b[38;5;241m.\u001b[39m_check_can_read()\n\u001b[0;32m--> 171\u001b[0m     \u001b[38;5;28;01mreturn\u001b[39;00m \u001b[38;5;28;43mself\u001b[39;49m\u001b[38;5;241;43m.\u001b[39;49m\u001b[43m_buffer\u001b[49m\u001b[38;5;241;43m.\u001b[39;49m\u001b[43mread\u001b[49m\u001b[43m(\u001b[49m\u001b[43msize\u001b[49m\u001b[43m)\u001b[49m\n",
      "File \u001b[0;32m/usr/local/lib/python3.9/_compression.py:68\u001b[0m, in \u001b[0;36mDecompressReader.readinto\u001b[0;34m(self, b)\u001b[0m\n\u001b[1;32m     66\u001b[0m \u001b[38;5;28;01mdef\u001b[39;00m \u001b[38;5;21mreadinto\u001b[39m(\u001b[38;5;28mself\u001b[39m, b):\n\u001b[1;32m     67\u001b[0m     \u001b[38;5;28;01mwith\u001b[39;00m \u001b[38;5;28mmemoryview\u001b[39m(b) \u001b[38;5;28;01mas\u001b[39;00m view, view\u001b[38;5;241m.\u001b[39mcast(\u001b[38;5;124m\"\u001b[39m\u001b[38;5;124mB\u001b[39m\u001b[38;5;124m\"\u001b[39m) \u001b[38;5;28;01mas\u001b[39;00m byte_view:\n\u001b[0;32m---> 68\u001b[0m         data \u001b[38;5;241m=\u001b[39m \u001b[38;5;28;43mself\u001b[39;49m\u001b[38;5;241;43m.\u001b[39;49m\u001b[43mread\u001b[49m\u001b[43m(\u001b[49m\u001b[38;5;28;43mlen\u001b[39;49m\u001b[43m(\u001b[49m\u001b[43mbyte_view\u001b[49m\u001b[43m)\u001b[49m\u001b[43m)\u001b[49m\n\u001b[1;32m     69\u001b[0m         byte_view[:\u001b[38;5;28mlen\u001b[39m(data)] \u001b[38;5;241m=\u001b[39m data\n\u001b[1;32m     70\u001b[0m     \u001b[38;5;28;01mreturn\u001b[39;00m \u001b[38;5;28mlen\u001b[39m(data)\n",
      "File \u001b[0;32m/usr/local/lib/python3.9/_compression.py:103\u001b[0m, in \u001b[0;36mDecompressReader.read\u001b[0;34m(self, size)\u001b[0m\n\u001b[1;32m    101\u001b[0m     \u001b[38;5;28;01melse\u001b[39;00m:\n\u001b[1;32m    102\u001b[0m         rawblock \u001b[38;5;241m=\u001b[39m \u001b[38;5;124mb\u001b[39m\u001b[38;5;124m\"\u001b[39m\u001b[38;5;124m\"\u001b[39m\n\u001b[0;32m--> 103\u001b[0m     data \u001b[38;5;241m=\u001b[39m \u001b[38;5;28;43mself\u001b[39;49m\u001b[38;5;241;43m.\u001b[39;49m\u001b[43m_decompressor\u001b[49m\u001b[38;5;241;43m.\u001b[39;49m\u001b[43mdecompress\u001b[49m\u001b[43m(\u001b[49m\u001b[43mrawblock\u001b[49m\u001b[43m,\u001b[49m\u001b[43m \u001b[49m\u001b[43msize\u001b[49m\u001b[43m)\u001b[49m\n\u001b[1;32m    104\u001b[0m \u001b[38;5;28;01mif\u001b[39;00m data:\n\u001b[1;32m    105\u001b[0m     \u001b[38;5;28;01mbreak\u001b[39;00m\n",
      "\u001b[0;31mKeyboardInterrupt\u001b[0m: "
     ]
    }
   ],
   "source": [
    "process_symbolic_link('../data/wikidata/latest-all.json.bz2')\n",
    "\n",
    "process_bz2_json(\"../\" + real_path)"
   ]
  },
  {
   "cell_type": "markdown",
   "metadata": {},
   "source": [
    "## Triplet extraction"
   ]
  }
 ],
 "metadata": {
  "kernelspec": {
   "display_name": ".venv",
   "language": "python",
   "name": ".venv"
  },
  "language_info": {
   "codemirror_mode": {
    "name": "ipython",
    "version": 3
   },
   "file_extension": ".py",
   "mimetype": "text/x-python",
   "name": "python",
   "nbconvert_exporter": "python",
   "pygments_lexer": "ipython3",
   "version": "3.9.7"
  }
 },
 "nbformat": 4,
 "nbformat_minor": 2
}
