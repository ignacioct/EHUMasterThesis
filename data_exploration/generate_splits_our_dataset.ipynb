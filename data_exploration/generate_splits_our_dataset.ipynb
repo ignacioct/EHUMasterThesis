{
 "cells": [
  {
   "cell_type": "markdown",
   "metadata": {},
   "source": [
    "# Generate splits for our dataset\n",
    "\n",
    "We want to obtain splits of 80% for training, 10% for validation and 10% for testing. It is important to divide with respect to the Q-values, not the individual samples."
   ]
  },
  {
   "cell_type": "code",
   "execution_count": 1,
   "metadata": {},
   "outputs": [],
   "source": [
    "import pandas as pd"
   ]
  },
  {
   "cell_type": "code",
   "execution_count": 2,
   "metadata": {},
   "outputs": [
    {
     "data": {
      "text/html": [
       "<div>\n",
       "<style scoped>\n",
       "    .dataframe tbody tr th:only-of-type {\n",
       "        vertical-align: middle;\n",
       "    }\n",
       "\n",
       "    .dataframe tbody tr th {\n",
       "        vertical-align: top;\n",
       "    }\n",
       "\n",
       "    .dataframe thead th {\n",
       "        text-align: right;\n",
       "    }\n",
       "</style>\n",
       "<table border=\"1\" class=\"dataframe\">\n",
       "  <thead>\n",
       "    <tr style=\"text-align: right;\">\n",
       "      <th></th>\n",
       "      <th>q_id</th>\n",
       "      <th>q_name</th>\n",
       "      <th>p_id</th>\n",
       "      <th>p_name</th>\n",
       "      <th>p_value</th>\n",
       "      <th>p_value_type</th>\n",
       "      <th>positive_negative</th>\n",
       "      <th>text</th>\n",
       "    </tr>\n",
       "  </thead>\n",
       "  <tbody>\n",
       "    <tr>\n",
       "      <th>0</th>\n",
       "      <td>Q23</td>\n",
       "      <td>George Washington</td>\n",
       "      <td>P509</td>\n",
       "      <td>cause_of_death</td>\n",
       "      <td>epiglottitis</td>\n",
       "      <td>wikibase-item</td>\n",
       "      <td>positive</td>\n",
       "      <td>George Washington, the first President of the ...</td>\n",
       "    </tr>\n",
       "    <tr>\n",
       "      <th>1</th>\n",
       "      <td>Q23</td>\n",
       "      <td>George Washington</td>\n",
       "      <td>P20</td>\n",
       "      <td>place_of_death</td>\n",
       "      <td>Mount Vernon</td>\n",
       "      <td>wikibase-item</td>\n",
       "      <td>positive</td>\n",
       "      <td>George Washington, the first President of the ...</td>\n",
       "    </tr>\n",
       "    <tr>\n",
       "      <th>2</th>\n",
       "      <td>Q23</td>\n",
       "      <td>George Washington</td>\n",
       "      <td>P26</td>\n",
       "      <td>spouse</td>\n",
       "      <td>Martha Washington</td>\n",
       "      <td>wikibase-item</td>\n",
       "      <td>positive</td>\n",
       "      <td>George Washington, the esteemed first Presiden...</td>\n",
       "    </tr>\n",
       "    <tr>\n",
       "      <th>3</th>\n",
       "      <td>Q23</td>\n",
       "      <td>George Washington</td>\n",
       "      <td>P22</td>\n",
       "      <td>father</td>\n",
       "      <td>Augustine Washington</td>\n",
       "      <td>wikibase-item</td>\n",
       "      <td>positive</td>\n",
       "      <td>George Washington, the first President of the ...</td>\n",
       "    </tr>\n",
       "    <tr>\n",
       "      <th>4</th>\n",
       "      <td>Q23</td>\n",
       "      <td>George Washington</td>\n",
       "      <td>P25</td>\n",
       "      <td>mother</td>\n",
       "      <td>Mary Ball Washington</td>\n",
       "      <td>wikibase-item</td>\n",
       "      <td>positive</td>\n",
       "      <td>George Washington, the first President of the ...</td>\n",
       "    </tr>\n",
       "  </tbody>\n",
       "</table>\n",
       "</div>"
      ],
      "text/plain": [
       "  q_id             q_name  p_id          p_name               p_value  \\\n",
       "0  Q23  George Washington  P509  cause_of_death          epiglottitis   \n",
       "1  Q23  George Washington   P20  place_of_death          Mount Vernon   \n",
       "2  Q23  George Washington   P26          spouse     Martha Washington   \n",
       "3  Q23  George Washington   P22          father  Augustine Washington   \n",
       "4  Q23  George Washington   P25          mother  Mary Ball Washington   \n",
       "\n",
       "    p_value_type positive_negative  \\\n",
       "0  wikibase-item          positive   \n",
       "1  wikibase-item          positive   \n",
       "2  wikibase-item          positive   \n",
       "3  wikibase-item          positive   \n",
       "4  wikibase-item          positive   \n",
       "\n",
       "                                                text  \n",
       "0  George Washington, the first President of the ...  \n",
       "1  George Washington, the first President of the ...  \n",
       "2  George Washington, the esteemed first Presiden...  \n",
       "3  George Washington, the first President of the ...  \n",
       "4  George Washington, the first President of the ...  "
      ]
     },
     "execution_count": 2,
     "metadata": {},
     "output_type": "execute_result"
    }
   ],
   "source": [
    "df = pd.read_csv(\"../data/wikidata_triplet2text_alpha_generated.csv\")\n",
    "df.head()"
   ]
  },
  {
   "cell_type": "code",
   "execution_count": 3,
   "metadata": {},
   "outputs": [],
   "source": [
    "# Now, we divide the data into training, validation and test sets, with respect to the column q_id\n",
    "q_ids = df.q_id.unique()\n",
    "q_ids = pd.Series(q_ids).sample(frac=1, random_state=24)\n",
    "n = len(q_ids)\n",
    "train_q_ids = q_ids[: int(0.8 * n)]\n",
    "valid_q_ids = q_ids[int(0.8 * n) : int(0.9 * n)]\n",
    "test_q_ids = q_ids[int(0.9 * n) :]\n",
    "\n",
    "train_df = df[df.q_id.isin(train_q_ids)]\n",
    "valid_df = df[df.q_id.isin(valid_q_ids)]\n",
    "test_df = df[df.q_id.isin(test_q_ids)]"
   ]
  },
  {
   "cell_type": "code",
   "execution_count": 4,
   "metadata": {},
   "outputs": [
    {
     "name": "stdout",
     "output_type": "stream",
     "text": [
      "Train: 102413\n",
      "Valid: 12925\n",
      "Test: 12479\n"
     ]
    }
   ],
   "source": [
    "print(f\"Train: {len(train_df)}\")\n",
    "print(f\"Valid: {len(valid_df)}\")\n",
    "print(f\"Test: {len(test_df)}\")"
   ]
  },
  {
   "cell_type": "code",
   "execution_count": 5,
   "metadata": {},
   "outputs": [],
   "source": [
    "train_df.to_csv(\"../data/wikidata_triplet2text_alpha_generated_train.csv\", index=False)\n",
    "valid_df.to_csv(\"../data/wikidata_triplet2text_alpha_generated_valid.csv\", index=False)\n",
    "test_df.to_csv(\"../data/wikidata_triplet2text_alpha_generated_test.csv\", index=False)"
   ]
  }
 ],
 "metadata": {
  "kernelspec": {
   "display_name": ".venv",
   "language": "python",
   "name": "python3"
  },
  "language_info": {
   "codemirror_mode": {
    "name": "ipython",
    "version": 3
   },
   "file_extension": ".py",
   "mimetype": "text/x-python",
   "name": "python",
   "nbconvert_exporter": "python",
   "pygments_lexer": "ipython3",
   "version": "3.9.7"
  }
 },
 "nbformat": 4,
 "nbformat_minor": 2
}
