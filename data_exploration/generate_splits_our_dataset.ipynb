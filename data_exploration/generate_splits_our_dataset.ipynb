{
 "cells": [
  {
   "cell_type": "markdown",
   "metadata": {},
   "source": [
    "# Generate splits for our dataset\n",
    "\n",
    "We want to obtain splits of 80% for training, 10% for validation and 10% for testing. It is important to divide with respect to the Q-values, not the individual samples."
   ]
  },
  {
   "cell_type": "code",
   "execution_count": 1,
   "metadata": {},
   "outputs": [],
   "source": [
    "import re\n",
    "from datetime import datetime\n",
    "\n",
    "import pandas as pd"
   ]
  },
  {
   "cell_type": "markdown",
   "metadata": {},
   "source": [
    "## Dataset Loading"
   ]
  },
  {
   "cell_type": "code",
   "execution_count": 2,
   "metadata": {},
   "outputs": [
    {
     "data": {
      "text/html": [
       "<div>\n",
       "<style scoped>\n",
       "    .dataframe tbody tr th:only-of-type {\n",
       "        vertical-align: middle;\n",
       "    }\n",
       "\n",
       "    .dataframe tbody tr th {\n",
       "        vertical-align: top;\n",
       "    }\n",
       "\n",
       "    .dataframe thead th {\n",
       "        text-align: right;\n",
       "    }\n",
       "</style>\n",
       "<table border=\"1\" class=\"dataframe\">\n",
       "  <thead>\n",
       "    <tr style=\"text-align: right;\">\n",
       "      <th></th>\n",
       "      <th>q_id</th>\n",
       "      <th>q_name</th>\n",
       "      <th>p_id</th>\n",
       "      <th>p_name</th>\n",
       "      <th>p_value</th>\n",
       "      <th>p_value_type</th>\n",
       "      <th>positive_negative</th>\n",
       "      <th>text</th>\n",
       "    </tr>\n",
       "  </thead>\n",
       "  <tbody>\n",
       "    <tr>\n",
       "      <th>0</th>\n",
       "      <td>Q23</td>\n",
       "      <td>George Washington</td>\n",
       "      <td>P509</td>\n",
       "      <td>cause_of_death</td>\n",
       "      <td>epiglottitis</td>\n",
       "      <td>wikibase-item</td>\n",
       "      <td>positive</td>\n",
       "      <td>George Washington, the first President of the ...</td>\n",
       "    </tr>\n",
       "    <tr>\n",
       "      <th>1</th>\n",
       "      <td>Q23</td>\n",
       "      <td>George Washington</td>\n",
       "      <td>P20</td>\n",
       "      <td>place_of_death</td>\n",
       "      <td>Mount Vernon</td>\n",
       "      <td>wikibase-item</td>\n",
       "      <td>positive</td>\n",
       "      <td>George Washington, the first President of the ...</td>\n",
       "    </tr>\n",
       "    <tr>\n",
       "      <th>2</th>\n",
       "      <td>Q23</td>\n",
       "      <td>George Washington</td>\n",
       "      <td>P26</td>\n",
       "      <td>spouse</td>\n",
       "      <td>Martha Washington</td>\n",
       "      <td>wikibase-item</td>\n",
       "      <td>positive</td>\n",
       "      <td>George Washington, the esteemed first Presiden...</td>\n",
       "    </tr>\n",
       "    <tr>\n",
       "      <th>3</th>\n",
       "      <td>Q23</td>\n",
       "      <td>George Washington</td>\n",
       "      <td>P22</td>\n",
       "      <td>father</td>\n",
       "      <td>Augustine Washington</td>\n",
       "      <td>wikibase-item</td>\n",
       "      <td>positive</td>\n",
       "      <td>George Washington, the first President of the ...</td>\n",
       "    </tr>\n",
       "    <tr>\n",
       "      <th>4</th>\n",
       "      <td>Q23</td>\n",
       "      <td>George Washington</td>\n",
       "      <td>P25</td>\n",
       "      <td>mother</td>\n",
       "      <td>Mary Ball Washington</td>\n",
       "      <td>wikibase-item</td>\n",
       "      <td>positive</td>\n",
       "      <td>George Washington, the first President of the ...</td>\n",
       "    </tr>\n",
       "  </tbody>\n",
       "</table>\n",
       "</div>"
      ],
      "text/plain": [
       "  q_id             q_name  p_id          p_name               p_value  \\\n",
       "0  Q23  George Washington  P509  cause_of_death          epiglottitis   \n",
       "1  Q23  George Washington   P20  place_of_death          Mount Vernon   \n",
       "2  Q23  George Washington   P26          spouse     Martha Washington   \n",
       "3  Q23  George Washington   P22          father  Augustine Washington   \n",
       "4  Q23  George Washington   P25          mother  Mary Ball Washington   \n",
       "\n",
       "    p_value_type positive_negative  \\\n",
       "0  wikibase-item          positive   \n",
       "1  wikibase-item          positive   \n",
       "2  wikibase-item          positive   \n",
       "3  wikibase-item          positive   \n",
       "4  wikibase-item          positive   \n",
       "\n",
       "                                                text  \n",
       "0  George Washington, the first President of the ...  \n",
       "1  George Washington, the first President of the ...  \n",
       "2  George Washington, the esteemed first Presiden...  \n",
       "3  George Washington, the first President of the ...  \n",
       "4  George Washington, the first President of the ...  "
      ]
     },
     "execution_count": 2,
     "metadata": {},
     "output_type": "execute_result"
    }
   ],
   "source": [
    "df = pd.read_csv(\"../data/wikidata_triplet2text_alpha_generated.csv\")\n",
    "df.head()"
   ]
  },
  {
   "cell_type": "markdown",
   "metadata": {},
   "source": [
    "## Slot mapping"
   ]
  },
  {
   "cell_type": "code",
   "execution_count": 3,
   "metadata": {},
   "outputs": [],
   "source": [
    "wikidata2our_slots = {\n",
    "    \"charge\": \"per:charges\",\n",
    "    \"relative\": \"per:other_family\",\n",
    "    \"sibling\": \"per:siblings\",\n",
    "    \"father\": \"per:parents\",\n",
    "    \"mother\": \"per:parents\",\n",
    "    \"child\": \"per:children\",\n",
    "    \"spouse\": \"per:spouse\",\n",
    "    \"religion_or_worldview\": \"per:religion\",\n",
    "    \"employer\": \"per:employee_or_member_of\",\n",
    "    \"noble_title\": \"per:title\",\n",
    "    \"educated_at\": \"per:schools_attended\",\n",
    "    \"residence\": \"per:place_of_residence\",\n",
    "    \"cause_of_death\": \"per:cause_of_death\",\n",
    "    \"place_of_death\": \"per:place_of_death\",\n",
    "    \"date_of_death\": \"per:date_of_death\",\n",
    "    \"place_of_birth\": \"per:place_of_birth\",\n",
    "    \"date_of_birth\": \"per:date_of_birth\",\n",
    "    \"alternative_name\": \"per:alternative_names\",\n",
    "    \"official_website\": \"org:website\",\n",
    "    \"owned_by\": \"org:shareholders\",\n",
    "    \"headquarters_location\": \"org:headquarters_location\",\n",
    "    \"dissolved_abolished_or_demolished\": \"org:date_dissolved\",\n",
    "    \"inception\": \"org:date_founded\",\n",
    "    \"founder\": \"org:founded_by\",\n",
    "    \"parent_organization\": \"org:parent_organization\",\n",
    "    \"subsidiary\": \"org:subsidiaries\",\n",
    "    \"member_of\": \"org:member_of\",\n",
    "    \"number_of_employees\": \"org:number_of_employees_members\",\n",
    "    \"no_relation\": \"no_relation\",\n",
    "}"
   ]
  },
  {
   "cell_type": "code",
   "execution_count": 4,
   "metadata": {},
   "outputs": [],
   "source": [
    "# We need to map the p_name to our mapping\n",
    "df[\"p_name\"] = df[\"p_name\"].map(wikidata2our_slots)\n",
    "\n",
    "# Now, anything outside of our slots, will be changed to \"no_relation\"\n",
    "for index, row in df.iterrows():\n",
    "    if row[\"p_name\"] not in wikidata2our_slots.values():\n",
    "        df.at[index, \"p_name\"] = \"no_relation\""
   ]
  },
  {
   "cell_type": "code",
   "execution_count": 5,
   "metadata": {},
   "outputs": [
    {
     "name": "stdout",
     "output_type": "stream",
     "text": [
      "['per:cause_of_death' 'per:place_of_death' 'per:spouse' 'per:parents'\n",
      " 'no_relation' 'per:date_of_birth' 'per:date_of_death' 'org:member_of'\n",
      " 'per:religion' 'per:siblings' 'per:place_of_residence' 'per:other_family'\n",
      " 'per:place_of_birth' 'per:children' 'per:employee_or_member_of'\n",
      " 'org:website' 'per:schools_attended' 'per:title'\n",
      " 'org:headquarters_location' 'org:founded_by' 'org:shareholders'\n",
      " 'org:date_founded' 'per:charges' 'org:subsidiaries'\n",
      " 'org:number_of_employees_members' 'org:parent_organization'\n",
      " 'org:date_dissolved' 'per:alternative_names']\n"
     ]
    }
   ],
   "source": [
    "# Print the unique p_names\n",
    "print(df[\"p_name\"].unique())"
   ]
  },
  {
   "cell_type": "markdown",
   "metadata": {},
   "source": [
    "## Balancing positive and negative samples"
   ]
  },
  {
   "cell_type": "code",
   "execution_count": null,
   "metadata": {},
   "outputs": [
    {
     "name": "stdout",
     "output_type": "stream",
     "text": [
      "Length before balancing positive and negative samples: 127817\n",
      "Number of positive samples: 77246\n",
      "Number of negative samples: 50571\n"
     ]
    }
   ],
   "source": [
    "print(f\"Length before balancing positive and negative samples: {len(df)}\")\n",
    "print(f\"Number of positive samples: {len(df[df['positive_negative'] == 'positive'])}\")\n",
    "print(f\"Number of negative samples: {len(df[df['positive_negative'] == 'negative'])}\")"
   ]
  },
  {
   "cell_type": "code",
   "execution_count": 7,
   "metadata": {},
   "outputs": [],
   "source": [
    "# We need to ensure that we have a split of positive and negative examples of 80/20\n",
    "# Therefore, we will calculate the amount of positive examples and remove negative examples until we have 80/20\n",
    "positive_examples = df[df[\"positive_negative\"] == \"positive\"]\n",
    "negative_examples = df[df[\"positive_negative\"] == \"negative\"]\n",
    "\n",
    "# Calculate the amount of negative examples we need to remove\n",
    "amount_to_remove = int(len(positive_examples) * 20 / 80)\n",
    "negative_examples = negative_examples.sample(frac=1, random_state=24).reset_index(\n",
    "    drop=True\n",
    ")\n",
    "negative_examples = negative_examples[:amount_to_remove]\n",
    "\n",
    "# Concatenate the positive and negative examples\n",
    "df = pd.concat([positive_examples, negative_examples])"
   ]
  },
  {
   "cell_type": "code",
   "execution_count": 8,
   "metadata": {},
   "outputs": [
    {
     "name": "stdout",
     "output_type": "stream",
     "text": [
      "Length after balancing positive and negative samples: 96557\n",
      "Number of positive samples: 77246\n",
      "Number of negative samples: 19311\n"
     ]
    }
   ],
   "source": [
    "print(f\"Length after balancing positive and negative samples: {len(df)}\")\n",
    "print(f\"Number of positive samples: {len(df[df['positive_negative'] == 'positive'])}\")\n",
    "print(f\"Number of negative samples: {len(df[df['positive_negative'] == 'negative'])}\")"
   ]
  },
  {
   "cell_type": "markdown",
   "metadata": {},
   "source": [
    "## Formatting"
   ]
  },
  {
   "cell_type": "markdown",
   "metadata": {},
   "source": [
    "### Normalizing date format for full dates"
   ]
  },
  {
   "cell_type": "code",
   "execution_count": 9,
   "metadata": {},
   "outputs": [],
   "source": [
    "# If we find something that matches the regex of a date in any row of the dataset, we will store only the first group (the date itself)\n",
    "regex_pattern = r\"(\\w+ \\d{1,2}, \\d{4}).*UTC\"\n",
    "for index, row in df.iterrows():\n",
    "    match_text = re.search(regex_pattern, row[\"text\"])\n",
    "    match_p_value = re.search(regex_pattern, row[\"p_value\"])\n",
    "    if match_text:\n",
    "        value_to_store = match_text.group(1)\n",
    "        # If there is 01, 02, 03, etc. in the date, we will remove the leading 0\n",
    "        date_obj = datetime.strptime(value_to_store, \"%B %d, %Y\")\n",
    "        formatted_date = date_obj.strftime(\"%B %-d, %Y\")\n",
    "\n",
    "        # Replace the original text with the formatted date\n",
    "        df.at[index, \"text\"] = formatted_date\n",
    "\n",
    "        # Replace the matched value with the formatted date\n",
    "        df.at[index, \"text\"] = re.sub(regex_pattern, formatted_date, row[\"text\"])\n",
    "\n",
    "        if row[\"text\"] == \"September 07, 1881\":\n",
    "            print(row[\"text\"])\n",
    "\n",
    "    if match_p_value:\n",
    "        value_to_store = match_p_value.group(1)\n",
    "        # If there is 01, 02, 03, etc. in the date, we will remove the leading 0\n",
    "        date_obj = datetime.strptime(value_to_store, \"%B %d, %Y\")\n",
    "        formatted_date = date_obj.strftime(\"%B %-d, %Y\")\n",
    "        # Store the first group in the dataset\n",
    "        df.at[index, \"p_value\"] = formatted_date"
   ]
  },
  {
   "cell_type": "markdown",
   "metadata": {},
   "source": [
    "### Normalizing date format for partial dates"
   ]
  },
  {
   "cell_type": "code",
   "execution_count": null,
   "metadata": {},
   "outputs": [],
   "source": [
    "# def replace_date_in_text(text):\n",
    "#     # Use regex to find date in the format \"Month DD, YYYY\"\n",
    "#     date_match = re.search(r'(\\w+ \\d{2}, \\d{4})', text)\n",
    "\n",
    "#     if date_match:\n",
    "#         try:\n",
    "#             # Extract the original date string\n",
    "#             original_date_str = date_match.group(0)\n",
    "#             # Parse the date to remove leading zero\n",
    "#             parsed_date = datetime.strptime(original_date_str, '%B %d, %Y')\n",
    "#             # Format the date with leading zero removed\n",
    "#             formatted_date = parsed_date.strftime('%B %-d, %Y')\n",
    "\n",
    "#         except ValueError:\n",
    "#             # If the date is invalid, return the original text\n",
    "#             return text\n",
    "\n",
    "#         # Replace the original date with the formatted date\n",
    "#         modified_text = text.replace(original_date_str, formatted_date)\n",
    "\n",
    "#         return modified_text\n",
    "\n",
    "#     return text  # Return original text if no date found\n",
    "\n",
    "# for index, row in tqdm(df.iterrows(), total=len(df)):\n",
    "\n",
    "#     # Replace the date in the text with the formatted date\n",
    "#     df.at[index, \"text\"] = replace_date_in_text(row[\"text\"])\n",
    "#     # Replace the date in the p_value with the formatted date\n",
    "#     df.at[index, \"p_value\"] = replace_date_in_text(row[\"p_value\"])"
   ]
  },
  {
   "cell_type": "markdown",
   "metadata": {},
   "source": [
    "### Normalize website strings"
   ]
  },
  {
   "cell_type": "code",
   "execution_count": 11,
   "metadata": {},
   "outputs": [],
   "source": [
    "# If we find something that matches the regex of a website, we remove the trailing slash\n",
    "regex_pattern = r\"(https?:\\/\\/(www\\.)?[\\w\\.-]+\\.\\w+)\"\n",
    "for index, row in df.iterrows():\n",
    "    # Find the first group that matches the regex pattern\n",
    "    match_text = re.search(regex_pattern, row[\"text\"])\n",
    "    match_p_value = re.search(regex_pattern, row[\"p_value\"])\n",
    "    if match_text:\n",
    "        # Store the first group in the dataset\n",
    "        df.at[index, \"text\"] = match_text.group(1)\n",
    "    if match_p_value:\n",
    "        # Store the first group in the dataset\n",
    "        df.at[index, \"p_value\"] = match_p_value.group(1)"
   ]
  },
  {
   "cell_type": "markdown",
   "metadata": {},
   "source": [
    "## Splitting"
   ]
  },
  {
   "cell_type": "code",
   "execution_count": 12,
   "metadata": {},
   "outputs": [],
   "source": [
    "# Now, we divide the data into training, validation and test sets, with respect to the column q_id\n",
    "q_ids = df.q_id.unique()\n",
    "q_ids = pd.Series(q_ids).sample(frac=1, random_state=24)\n",
    "n = len(q_ids)\n",
    "train_q_ids = q_ids[: int(0.8 * n)]\n",
    "valid_q_ids = q_ids[int(0.8 * n) : int(0.9 * n)]\n",
    "test_q_ids = q_ids[int(0.9 * n) :]\n",
    "\n",
    "train_df = df[df.q_id.isin(train_q_ids)]\n",
    "valid_df = df[df.q_id.isin(valid_q_ids)]\n",
    "test_df = df[df.q_id.isin(test_q_ids)]"
   ]
  },
  {
   "cell_type": "code",
   "execution_count": 13,
   "metadata": {},
   "outputs": [
    {
     "data": {
      "text/html": [
       "<div>\n",
       "<style scoped>\n",
       "    .dataframe tbody tr th:only-of-type {\n",
       "        vertical-align: middle;\n",
       "    }\n",
       "\n",
       "    .dataframe tbody tr th {\n",
       "        vertical-align: top;\n",
       "    }\n",
       "\n",
       "    .dataframe thead th {\n",
       "        text-align: right;\n",
       "    }\n",
       "</style>\n",
       "<table border=\"1\" class=\"dataframe\">\n",
       "  <thead>\n",
       "    <tr style=\"text-align: right;\">\n",
       "      <th></th>\n",
       "      <th>q_id</th>\n",
       "      <th>q_name</th>\n",
       "      <th>p_id</th>\n",
       "      <th>p_name</th>\n",
       "      <th>p_value</th>\n",
       "      <th>p_value_type</th>\n",
       "      <th>positive_negative</th>\n",
       "      <th>text</th>\n",
       "    </tr>\n",
       "  </thead>\n",
       "  <tbody>\n",
       "    <tr>\n",
       "      <th>0</th>\n",
       "      <td>Q23</td>\n",
       "      <td>George Washington</td>\n",
       "      <td>P509</td>\n",
       "      <td>per:cause_of_death</td>\n",
       "      <td>epiglottitis</td>\n",
       "      <td>wikibase-item</td>\n",
       "      <td>positive</td>\n",
       "      <td>George Washington, the first President of the ...</td>\n",
       "    </tr>\n",
       "    <tr>\n",
       "      <th>1</th>\n",
       "      <td>Q23</td>\n",
       "      <td>George Washington</td>\n",
       "      <td>P20</td>\n",
       "      <td>per:place_of_death</td>\n",
       "      <td>Mount Vernon</td>\n",
       "      <td>wikibase-item</td>\n",
       "      <td>positive</td>\n",
       "      <td>George Washington, the first President of the ...</td>\n",
       "    </tr>\n",
       "    <tr>\n",
       "      <th>2</th>\n",
       "      <td>Q23</td>\n",
       "      <td>George Washington</td>\n",
       "      <td>P26</td>\n",
       "      <td>per:spouse</td>\n",
       "      <td>Martha Washington</td>\n",
       "      <td>wikibase-item</td>\n",
       "      <td>positive</td>\n",
       "      <td>George Washington, the esteemed first Presiden...</td>\n",
       "    </tr>\n",
       "    <tr>\n",
       "      <th>3</th>\n",
       "      <td>Q23</td>\n",
       "      <td>George Washington</td>\n",
       "      <td>P22</td>\n",
       "      <td>per:parents</td>\n",
       "      <td>Augustine Washington</td>\n",
       "      <td>wikibase-item</td>\n",
       "      <td>positive</td>\n",
       "      <td>George Washington, the first President of the ...</td>\n",
       "    </tr>\n",
       "    <tr>\n",
       "      <th>4</th>\n",
       "      <td>Q23</td>\n",
       "      <td>George Washington</td>\n",
       "      <td>P25</td>\n",
       "      <td>per:parents</td>\n",
       "      <td>Mary Ball Washington</td>\n",
       "      <td>wikibase-item</td>\n",
       "      <td>positive</td>\n",
       "      <td>George Washington, the first President of the ...</td>\n",
       "    </tr>\n",
       "  </tbody>\n",
       "</table>\n",
       "</div>"
      ],
      "text/plain": [
       "  q_id             q_name  p_id              p_name               p_value  \\\n",
       "0  Q23  George Washington  P509  per:cause_of_death          epiglottitis   \n",
       "1  Q23  George Washington   P20  per:place_of_death          Mount Vernon   \n",
       "2  Q23  George Washington   P26          per:spouse     Martha Washington   \n",
       "3  Q23  George Washington   P22         per:parents  Augustine Washington   \n",
       "4  Q23  George Washington   P25         per:parents  Mary Ball Washington   \n",
       "\n",
       "    p_value_type positive_negative  \\\n",
       "0  wikibase-item          positive   \n",
       "1  wikibase-item          positive   \n",
       "2  wikibase-item          positive   \n",
       "3  wikibase-item          positive   \n",
       "4  wikibase-item          positive   \n",
       "\n",
       "                                                text  \n",
       "0  George Washington, the first President of the ...  \n",
       "1  George Washington, the first President of the ...  \n",
       "2  George Washington, the esteemed first Presiden...  \n",
       "3  George Washington, the first President of the ...  \n",
       "4  George Washington, the first President of the ...  "
      ]
     },
     "execution_count": 13,
     "metadata": {},
     "output_type": "execute_result"
    }
   ],
   "source": [
    "train_df.head()"
   ]
  },
  {
   "cell_type": "code",
   "execution_count": 14,
   "metadata": {},
   "outputs": [
    {
     "name": "stdout",
     "output_type": "stream",
     "text": [
      "Train: 77427\n",
      "Valid: 9779\n",
      "Test: 9351\n"
     ]
    }
   ],
   "source": [
    "print(f\"Train: {len(train_df)}\")\n",
    "print(f\"Valid: {len(valid_df)}\")\n",
    "print(f\"Test: {len(test_df)}\")"
   ]
  },
  {
   "cell_type": "markdown",
   "metadata": {},
   "source": [
    "## Saving datasets into csv"
   ]
  },
  {
   "cell_type": "code",
   "execution_count": 15,
   "metadata": {},
   "outputs": [],
   "source": [
    "train_df.to_csv(\"../data/wikidata_triplet2text_alpha_generated_train.csv\", index=False)\n",
    "valid_df.to_csv(\"../data/wikidata_triplet2text_alpha_generated_valid.csv\", index=False)\n",
    "test_df.to_csv(\"../data/wikidata_triplet2text_alpha_generated_test.csv\", index=False)"
   ]
  }
 ],
 "metadata": {
  "kernelspec": {
   "display_name": ".venv",
   "language": "python",
   "name": "python3"
  },
  "language_info": {
   "codemirror_mode": {
    "name": "ipython",
    "version": 3
   },
   "file_extension": ".py",
   "mimetype": "text/x-python",
   "name": "python",
   "nbconvert_exporter": "python",
   "pygments_lexer": "ipython3",
   "version": "3.9.7"
  }
 },
 "nbformat": 4,
 "nbformat_minor": 2
}
